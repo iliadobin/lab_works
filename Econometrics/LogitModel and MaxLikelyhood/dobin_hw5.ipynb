{
 "cells": [
  {
   "cell_type": "markdown",
   "id": "8a88a21d",
   "metadata": {},
   "source": [
    "# Задание 1"
   ]
  },
  {
   "cell_type": "code",
   "execution_count": 37,
   "id": "5e20592d",
   "metadata": {
    "scrolled": true
   },
   "outputs": [
    {
     "data": {
      "text/html": [
       "<div>\n",
       "<style scoped>\n",
       "    .dataframe tbody tr th:only-of-type {\n",
       "        vertical-align: middle;\n",
       "    }\n",
       "\n",
       "    .dataframe tbody tr th {\n",
       "        vertical-align: top;\n",
       "    }\n",
       "\n",
       "    .dataframe thead th {\n",
       "        text-align: right;\n",
       "    }\n",
       "</style>\n",
       "<table border=\"1\" class=\"dataframe\">\n",
       "  <thead>\n",
       "    <tr style=\"text-align: right;\">\n",
       "      <th></th>\n",
       "      <th>avgsen</th>\n",
       "      <th>black</th>\n",
       "      <th>born60</th>\n",
       "      <th>durat</th>\n",
       "      <th>hispan</th>\n",
       "      <th>inc86</th>\n",
       "      <th>inc86sq</th>\n",
       "      <th>narr86</th>\n",
       "      <th>nfarr86</th>\n",
       "      <th>nparr86</th>\n",
       "      <th>pcnv</th>\n",
       "      <th>pcnvsq</th>\n",
       "      <th>pt86sq</th>\n",
       "      <th>ptime86</th>\n",
       "      <th>qemp86</th>\n",
       "      <th>tottime</th>\n",
       "      <th>crime86</th>\n",
       "    </tr>\n",
       "  </thead>\n",
       "  <tbody>\n",
       "    <tr>\n",
       "      <th>0</th>\n",
       "      <td>0.0</td>\n",
       "      <td>0</td>\n",
       "      <td>1</td>\n",
       "      <td>4.0</td>\n",
       "      <td>0</td>\n",
       "      <td>0.0</td>\n",
       "      <td>0.00</td>\n",
       "      <td>1</td>\n",
       "      <td>0</td>\n",
       "      <td>1</td>\n",
       "      <td>1.0</td>\n",
       "      <td>1.00</td>\n",
       "      <td>0</td>\n",
       "      <td>0</td>\n",
       "      <td>0.0</td>\n",
       "      <td>0.0</td>\n",
       "      <td>1</td>\n",
       "    </tr>\n",
       "    <tr>\n",
       "      <th>1</th>\n",
       "      <td>0.0</td>\n",
       "      <td>0</td>\n",
       "      <td>1</td>\n",
       "      <td>0.0</td>\n",
       "      <td>0</td>\n",
       "      <td>103.7</td>\n",
       "      <td>10753.69</td>\n",
       "      <td>1</td>\n",
       "      <td>1</td>\n",
       "      <td>0</td>\n",
       "      <td>0.5</td>\n",
       "      <td>0.25</td>\n",
       "      <td>0</td>\n",
       "      <td>0</td>\n",
       "      <td>4.0</td>\n",
       "      <td>0.0</td>\n",
       "      <td>1</td>\n",
       "    </tr>\n",
       "    <tr>\n",
       "      <th>2</th>\n",
       "      <td>0.0</td>\n",
       "      <td>0</td>\n",
       "      <td>1</td>\n",
       "      <td>0.0</td>\n",
       "      <td>0</td>\n",
       "      <td>148.2</td>\n",
       "      <td>21963.24</td>\n",
       "      <td>0</td>\n",
       "      <td>0</td>\n",
       "      <td>0</td>\n",
       "      <td>1.0</td>\n",
       "      <td>1.00</td>\n",
       "      <td>0</td>\n",
       "      <td>0</td>\n",
       "      <td>4.0</td>\n",
       "      <td>0.0</td>\n",
       "      <td>0</td>\n",
       "    </tr>\n",
       "    <tr>\n",
       "      <th>3</th>\n",
       "      <td>0.0</td>\n",
       "      <td>0</td>\n",
       "      <td>1</td>\n",
       "      <td>3.0</td>\n",
       "      <td>0</td>\n",
       "      <td>0.0</td>\n",
       "      <td>0.00</td>\n",
       "      <td>0</td>\n",
       "      <td>0</td>\n",
       "      <td>0</td>\n",
       "      <td>1.0</td>\n",
       "      <td>1.00</td>\n",
       "      <td>0</td>\n",
       "      <td>0</td>\n",
       "      <td>0.0</td>\n",
       "      <td>0.0</td>\n",
       "      <td>0</td>\n",
       "    </tr>\n",
       "    <tr>\n",
       "      <th>4</th>\n",
       "      <td>0.0</td>\n",
       "      <td>0</td>\n",
       "      <td>1</td>\n",
       "      <td>0.0</td>\n",
       "      <td>0</td>\n",
       "      <td>183.4</td>\n",
       "      <td>33635.56</td>\n",
       "      <td>0</td>\n",
       "      <td>0</td>\n",
       "      <td>0</td>\n",
       "      <td>0.5</td>\n",
       "      <td>0.25</td>\n",
       "      <td>0</td>\n",
       "      <td>0</td>\n",
       "      <td>4.0</td>\n",
       "      <td>0.0</td>\n",
       "      <td>0</td>\n",
       "    </tr>\n",
       "  </tbody>\n",
       "</table>\n",
       "</div>"
      ],
      "text/plain": [
       "   avgsen  black  born60  durat  hispan  inc86   inc86sq  narr86  nfarr86  \\\n",
       "0     0.0      0       1    4.0       0    0.0      0.00       1        0   \n",
       "1     0.0      0       1    0.0       0  103.7  10753.69       1        1   \n",
       "2     0.0      0       1    0.0       0  148.2  21963.24       0        0   \n",
       "3     0.0      0       1    3.0       0    0.0      0.00       0        0   \n",
       "4     0.0      0       1    0.0       0  183.4  33635.56       0        0   \n",
       "\n",
       "   nparr86  pcnv  pcnvsq  pt86sq  ptime86  qemp86  tottime  crime86  \n",
       "0        1   1.0    1.00       0        0     0.0      0.0        1  \n",
       "1        0   0.5    0.25       0        0     4.0      0.0        1  \n",
       "2        0   1.0    1.00       0        0     4.0      0.0        0  \n",
       "3        0   1.0    1.00       0        0     0.0      0.0        0  \n",
       "4        0   0.5    0.25       0        0     4.0      0.0        0  "
      ]
     },
     "execution_count": 37,
     "metadata": {},
     "output_type": "execute_result"
    }
   ],
   "source": [
    "import pandas as pd\n",
    "import numpy as np\n",
    "import statsmodels.api as sm\n",
    "\n",
    "df = pd.read_excel(\"hw_2.xlsx\")\n",
    "\n",
    "df['crime86'] = (df[\"narr86\"]>0).astype(int)\n",
    "df.head(5)"
   ]
  },
  {
   "cell_type": "markdown",
   "id": "91509b95",
   "metadata": {
    "scrolled": true
   },
   "source": [
    "a)"
   ]
  },
  {
   "cell_type": "code",
   "execution_count": 38,
   "id": "5cc61dfe",
   "metadata": {},
   "outputs": [
    {
     "name": "stdout",
     "output_type": "stream",
     "text": [
      "Warning: Maximum number of iterations has been exceeded.\n",
      "         Current function value: 0.490542\n",
      "         Iterations: 35\n",
      "                           Logit Regression Results                           \n",
      "==============================================================================\n",
      "Dep. Variable:                crime86   No. Observations:                 1500\n",
      "Model:                          Logit   Df Residuals:                     1489\n",
      "Method:                           MLE   Df Model:                           10\n",
      "Date:                Tue, 29 Apr 2025   Pseudo R-squ.:                 0.07636\n",
      "Time:                        20:50:42   Log-Likelihood:                -735.81\n",
      "converged:                      False   LL-Null:                       -796.64\n",
      "Covariance Type:            nonrobust   LLR p-value:                 2.330e-21\n",
      "==============================================================================\n",
      "                 coef    std err          z      P>|z|      [0.025      0.975]\n",
      "------------------------------------------------------------------------------\n",
      "const         -0.8840      0.167     -5.278      0.000      -1.212      -0.556\n",
      "pcnv          -0.5634      0.171     -3.301      0.001      -0.898      -0.229\n",
      "avgsen         3.8787   4.05e+04   9.57e-05      1.000   -7.94e+04    7.94e+04\n",
      "tottime       -3.8869   4.05e+04  -9.59e-05      1.000   -7.94e+04    7.94e+04\n",
      "ptime86       -0.0788      0.041     -1.921      0.055      -0.159       0.002\n",
      "qemp86         0.0645      0.065      0.990      0.322      -0.063       0.192\n",
      "inc86         -0.0114      0.002     -5.684      0.000      -0.015      -0.007\n",
      "durat          0.0170      0.016      1.063      0.288      -0.014       0.048\n",
      "black          0.7171      0.173      4.149      0.000       0.378       1.056\n",
      "hispan         0.3259      0.157      2.071      0.038       0.017       0.634\n",
      "born60         0.0179      0.149      0.120      0.904      -0.275       0.310\n",
      "==============================================================================\n"
     ]
    },
    {
     "name": "stderr",
     "output_type": "stream",
     "text": [
      "/Users/ilushka/opt/miniconda3/lib/python3.9/site-packages/statsmodels/base/model.py:607: ConvergenceWarning: Maximum Likelihood optimization failed to converge. Check mle_retvals\n",
      "  warnings.warn(\"Maximum Likelihood optimization failed to \"\n"
     ]
    }
   ],
   "source": [
    "X = df[['pcnv', 'avgsen', 'tottime', 'ptime86', 'qemp86', 'inc86', 'durat', 'black', 'hispan', 'born60']]\n",
    "X = sm.add_constant(X)\n",
    "y = df['crime86']\n",
    "logit_model = sm.Logit(y, X).fit()\n",
    "print(logit_model.summary())"
   ]
  },
  {
   "cell_type": "markdown",
   "id": "e012fbf3",
   "metadata": {},
   "source": [
    "b)"
   ]
  },
  {
   "cell_type": "code",
   "execution_count": 39,
   "id": "9a1faa93",
   "metadata": {},
   "outputs": [
    {
     "name": "stdout",
     "output_type": "stream",
     "text": [
      "0    0.795992\n",
      "1    0.888311\n",
      "2    0.946006\n",
      "3    0.798741\n",
      "4    0.951825\n",
      "5    1.000000\n",
      "6    0.727741\n",
      "7    0.804155\n",
      "8    0.693178\n",
      "9    0.602409\n",
      "Name: prob_no_arrest, dtype: float64\n"
     ]
    }
   ],
   "source": [
    "df['prob_arrest'] = logit_model.predict(X)\n",
    "df['prob_no_arrest'] = 1 - df['prob_arrest']\n",
    "print(df['prob_no_arrest'].head(10))"
   ]
  },
  {
   "cell_type": "markdown",
   "id": "040538a7",
   "metadata": {},
   "source": [
    "c)"
   ]
  },
  {
   "cell_type": "code",
   "execution_count": 40,
   "id": "6cbf5789",
   "metadata": {},
   "outputs": [
    {
     "name": "stdout",
     "output_type": "stream",
     "text": [
      "        Logit Marginal Effects       \n",
      "=====================================\n",
      "Dep. Variable:                crime86\n",
      "Method:                          dydx\n",
      "At:                           overall\n",
      "==============================================================================\n",
      "                dy/dx    std err          z      P>|z|      [0.025      0.975]\n",
      "------------------------------------------------------------------------------\n",
      "pcnv          -0.0903      0.027     -3.333      0.001      -0.143      -0.037\n",
      "avgsen         0.6215   6492.112   9.57e-05      1.000   -1.27e+04    1.27e+04\n",
      "tottime       -0.6228   6492.112  -9.59e-05      1.000   -1.27e+04    1.27e+04\n",
      "ptime86       -0.0126      0.007     -1.927      0.054      -0.025       0.000\n",
      "qemp86         0.0103      0.010      0.991      0.322      -0.010       0.031\n",
      "inc86         -0.0018      0.000     -5.791      0.000      -0.002      -0.001\n",
      "durat          0.0027      0.003      1.065      0.287      -0.002       0.008\n",
      "black          0.1149      0.027      4.234      0.000       0.062       0.168\n",
      "hispan         0.0522      0.025      2.079      0.038       0.003       0.101\n",
      "born60         0.0029      0.024      0.120      0.904      -0.044       0.050\n",
      "==============================================================================\n"
     ]
    }
   ],
   "source": [
    "ame = logit_model.get_margeff()\n",
    "print(ame.summary())"
   ]
  },
  {
   "cell_type": "markdown",
   "id": "a1b00ebf",
   "metadata": {},
   "source": [
    "d)"
   ]
  },
  {
   "cell_type": "code",
   "execution_count": 41,
   "id": "054421b4",
   "metadata": {},
   "outputs": [
    {
     "name": "stdout",
     "output_type": "stream",
     "text": [
      "                OR      2.5%     97.5%  p-value\n",
      "const     0.413126  0.297525  0.573644   0.0000\n",
      "pcnv      0.569257  0.407412  0.795395   0.0010\n",
      "avgsen   48.359621  0.000000       inf   0.9999\n",
      "tottime   0.020510  0.000000       inf   0.9999\n",
      "ptime86   0.924231  0.852824  1.001617   0.0548\n",
      "qemp86    1.066650  0.938796  1.211917   0.3219\n",
      "inc86     0.988648  0.984764  0.992548   0.0000\n",
      "durat     1.017159  0.985751  1.049568   0.2877\n",
      "black     2.048402  1.459805  2.874322   0.0000\n",
      "hispan    1.385259  1.017624  1.885710   0.0384\n",
      "born60    1.018106  0.759902  1.364043   0.9043\n"
     ]
    },
    {
     "name": "stderr",
     "output_type": "stream",
     "text": [
      "/Users/ilushka/opt/miniconda3/lib/python3.9/site-packages/pandas/core/internals/blocks.py:351: RuntimeWarning: overflow encountered in exp\n",
      "  result = func(self.values, **kwargs)\n"
     ]
    }
   ],
   "source": [
    "odds_ratios = np.exp(logit_model.params)\n",
    "\n",
    "conf_int = np.exp(logit_model.conf_int())\n",
    "conf_int.columns = ['2.5%', '97.5%']\n",
    "\n",
    "results = pd.DataFrame({\n",
    "    'OR': odds_ratios,\n",
    "    '2.5%': conf_int['2.5%'],\n",
    "    '97.5%': conf_int['97.5%'],\n",
    "    'p-value': logit_model.pvalues.round(4)\n",
    "})\n",
    "\n",
    "print(results)"
   ]
  },
  {
   "cell_type": "markdown",
   "id": "cbf0b722",
   "metadata": {},
   "source": [
    "e)"
   ]
  },
  {
   "cell_type": "code",
   "execution_count": 42,
   "id": "772f9770",
   "metadata": {},
   "outputs": [
    {
     "name": "stdout",
     "output_type": "stream",
     "text": [
      "Вероятность ареста для афроамериканца: 0.2671\n",
      "Вероятность ареста для латиноамериканца: 0.1977\n",
      "Средняя разница вероятностей (ΔP): 0.0694\n"
     ]
    }
   ],
   "source": [
    "from statsmodels.discrete.discrete_model import LogitResults\n",
    "\n",
    "\n",
    "mean_values = X.mean().to_frame().T\n",
    "mean_values['born60'] = 0\n",
    "\n",
    "\n",
    "X_black = mean_values.copy()\n",
    "X_black['black'] = 1\n",
    "X_black['hispan'] = 0\n",
    "P_black = logit_model.predict(X_black)\n",
    "\n",
    "X_hispan = mean_values.copy()\n",
    "X_hispan['black'] = 0\n",
    "X_hispan['hispan'] = 1\n",
    "P_hispan = logit_model.predict(X_hispan)\n",
    "\n",
    "delta_P = float(P_black - P_hispan)\n",
    "\n",
    "print(f\"Вероятность ареста для афроамериканца: {P_black.values[0]:.4f}\")\n",
    "print(f\"Вероятность ареста для латиноамериканца: {P_hispan.values[0]:.4f}\")\n",
    "print(f\"Средняя разница вероятностей (ΔP): {delta_P:.4f}\")"
   ]
  },
  {
   "cell_type": "code",
   "execution_count": 45,
   "id": "6fd61e0f",
   "metadata": {},
   "outputs": [
    {
     "name": "stdout",
     "output_type": "stream",
     "text": [
      "Z-статистика: 0    1.922898\n",
      "dtype: float64, p-value: [0.05449286]\n"
     ]
    }
   ],
   "source": [
    "from statsmodels.stats.proportion import proportions_ztest\n",
    "from scipy import stats\n",
    "\n",
    "grad_black = logit_model.predict(X_black) * (1 - logit_model.predict(X_black))\n",
    "grad_hispan = -logit_model.predict(X_hispan) * (1 - logit_model.predict(X_hispan))\n",
    "\n",
    "cov = logit_model.cov_params()\n",
    "cov_black_hispan = cov.loc['black', 'hispan']\n",
    "\n",
    "se_delta = np.sqrt(grad_black**2 * cov.loc['black', 'black'] + \n",
    "                   grad_hispan**2 * cov.loc['hispan', 'hispan'] + \n",
    "                   2 * grad_black * grad_hispan * cov_black_hispan)\n",
    "\n",
    "z_score = delta_P / se_delta\n",
    "p_value = 2 * (1 - stats.norm.cdf(abs(z_score)))  # двусторонний тест\n",
    "\n",
    "print(f\"Z-статистика: {z_score}, p-value: {p_value}\")"
   ]
  },
  {
   "cell_type": "markdown",
   "id": "259ce133",
   "metadata": {},
   "source": [
    "f)"
   ]
  },
  {
   "cell_type": "code",
   "execution_count": 46,
   "id": "490ddcbd",
   "metadata": {},
   "outputs": [
    {
     "name": "stdout",
     "output_type": "stream",
     "text": [
      "Optimization terminated successfully.\n",
      "         Current function value: 0.689793\n",
      "         Iterations: 97\n",
      "         Function evaluations: 102\n",
      "         Gradient evaluations: 102\n",
      "                             OrderedModel Results                             \n",
      "==============================================================================\n",
      "Dep. Variable:                 narr86   Log-Likelihood:                -1034.7\n",
      "Model:                   OrderedModel   AIC:                             2107.\n",
      "Method:            Maximum Likelihood   BIC:                             2208.\n",
      "Date:                Tue, 29 Apr 2025                                         \n",
      "Time:                        20:51:03                                         \n",
      "No. Observations:                1500                                         \n",
      "Df Residuals:                    1481                                         \n",
      "Df Model:                          10                                         \n",
      "==============================================================================\n",
      "                 coef    std err          z      P>|z|      [0.025      0.975]\n",
      "------------------------------------------------------------------------------\n",
      "pcnv          -0.5150      0.169     -3.056      0.002      -0.845      -0.185\n",
      "avgsen         1.9888    124.150      0.016      0.987    -241.340     245.318\n",
      "tottime       -2.0006    124.150     -0.016      0.987    -245.330     241.329\n",
      "ptime86       -0.0788      0.040     -1.951      0.051      -0.158       0.000\n",
      "qemp86         0.0348      0.064      0.542      0.588      -0.091       0.161\n",
      "inc86         -0.0112      0.002     -5.607      0.000      -0.015      -0.007\n",
      "durat          0.0141      0.015      0.909      0.363      -0.016       0.044\n",
      "black          0.7349      0.169      4.336      0.000       0.403       1.067\n",
      "hispan         0.3336      0.156      2.141      0.032       0.028       0.639\n",
      "born60        -0.0094      0.148     -0.064      0.949      -0.299       0.280\n",
      "0/1            0.8310      0.165      5.041      0.000       0.508       1.154\n",
      "1/2            0.4986      0.063      7.960      0.000       0.376       0.621\n",
      "2/3           -0.1257      0.146     -0.863      0.388      -0.411       0.160\n",
      "3/4           -0.3771      0.238     -1.584      0.113      -0.844       0.090\n",
      "4/5           -1.1673      0.448     -2.607      0.009      -2.045      -0.290\n",
      "5/6           -0.1540      0.363     -0.425      0.671      -0.865       0.557\n",
      "6/7           -0.3592      0.588     -0.611      0.541      -1.511       0.792\n",
      "7/9           -0.8986      1.006     -0.893      0.372      -2.870       1.073\n",
      "9/10          -0.3633      1.019     -0.357      0.721      -2.361       1.634\n",
      "==============================================================================\n"
     ]
    }
   ],
   "source": [
    "from statsmodels.miscmodels.ordinal_model import OrderedModel\n",
    "X = df[['pcnv', 'avgsen', 'tottime', 'ptime86', 'qemp86', 'inc86', 'durat', 'black', 'hispan', 'born60']]\n",
    "y = df['narr86'] \n",
    "ordered_logit = OrderedModel(y, X, distr='logit')\n",
    "result = ordered_logit.fit(method='bfgs')\n",
    "print(result.summary())"
   ]
  },
  {
   "cell_type": "markdown",
   "id": "ca1d5317",
   "metadata": {},
   "source": [
    "g)"
   ]
  },
  {
   "cell_type": "code",
   "execution_count": 47,
   "id": "9e9b18bb",
   "metadata": {},
   "outputs": [
    {
     "name": "stdout",
     "output_type": "stream",
     "text": [
      "Optimization terminated successfully.\n",
      "         Current function value: 0.689793\n",
      "         Iterations: 97\n",
      "         Function evaluations: 102\n",
      "         Gradient evaluations: 102\n"
     ]
    },
    {
     "data": {
      "text/html": [
       "<div>\n",
       "<style scoped>\n",
       "    .dataframe tbody tr th:only-of-type {\n",
       "        vertical-align: middle;\n",
       "    }\n",
       "\n",
       "    .dataframe tbody tr th {\n",
       "        vertical-align: top;\n",
       "    }\n",
       "\n",
       "    .dataframe thead th {\n",
       "        text-align: right;\n",
       "    }\n",
       "</style>\n",
       "<table border=\"1\" class=\"dataframe\">\n",
       "  <thead>\n",
       "    <tr style=\"text-align: right;\">\n",
       "      <th></th>\n",
       "      <th>narr86</th>\n",
       "      <th>prob_no_arrest</th>\n",
       "    </tr>\n",
       "  </thead>\n",
       "  <tbody>\n",
       "    <tr>\n",
       "      <th>0</th>\n",
       "      <td>1</td>\n",
       "      <td>0.785714</td>\n",
       "    </tr>\n",
       "    <tr>\n",
       "      <th>1</th>\n",
       "      <td>1</td>\n",
       "      <td>0.893011</td>\n",
       "    </tr>\n",
       "    <tr>\n",
       "      <th>2</th>\n",
       "      <td>0</td>\n",
       "      <td>0.946778</td>\n",
       "    </tr>\n",
       "    <tr>\n",
       "      <th>3</th>\n",
       "      <td>0</td>\n",
       "      <td>0.788071</td>\n",
       "    </tr>\n",
       "    <tr>\n",
       "      <th>4</th>\n",
       "      <td>0</td>\n",
       "      <td>0.953289</td>\n",
       "    </tr>\n",
       "    <tr>\n",
       "      <th>...</th>\n",
       "      <td>...</td>\n",
       "      <td>...</td>\n",
       "    </tr>\n",
       "    <tr>\n",
       "      <th>1495</th>\n",
       "      <td>1</td>\n",
       "      <td>0.687593</td>\n",
       "    </tr>\n",
       "    <tr>\n",
       "      <th>1496</th>\n",
       "      <td>0</td>\n",
       "      <td>0.626497</td>\n",
       "    </tr>\n",
       "    <tr>\n",
       "      <th>1497</th>\n",
       "      <td>0</td>\n",
       "      <td>0.690715</td>\n",
       "    </tr>\n",
       "    <tr>\n",
       "      <th>1498</th>\n",
       "      <td>1</td>\n",
       "      <td>0.457391</td>\n",
       "    </tr>\n",
       "    <tr>\n",
       "      <th>1499</th>\n",
       "      <td>0</td>\n",
       "      <td>0.945165</td>\n",
       "    </tr>\n",
       "  </tbody>\n",
       "</table>\n",
       "<p>1500 rows × 2 columns</p>\n",
       "</div>"
      ],
      "text/plain": [
       "      narr86  prob_no_arrest\n",
       "0          1        0.785714\n",
       "1          1        0.893011\n",
       "2          0        0.946778\n",
       "3          0        0.788071\n",
       "4          0        0.953289\n",
       "...      ...             ...\n",
       "1495       1        0.687593\n",
       "1496       0        0.626497\n",
       "1497       0        0.690715\n",
       "1498       1        0.457391\n",
       "1499       0        0.945165\n",
       "\n",
       "[1500 rows x 2 columns]"
      ]
     },
     "execution_count": 47,
     "metadata": {},
     "output_type": "execute_result"
    }
   ],
   "source": [
    "result = ordered_logit.fit(method='bfgs')\n",
    "\n",
    "pred_prob_all = result.predict(X)\n",
    "df['prob_no_arrest'] = pred_prob_all.iloc[:, 0]\n",
    "\n",
    "df[['narr86', 'prob_no_arrest']]"
   ]
  },
  {
   "cell_type": "markdown",
   "id": "edac6cde",
   "metadata": {},
   "source": [
    "h)"
   ]
  },
  {
   "cell_type": "code",
   "execution_count": 74,
   "id": "f383efdd",
   "metadata": {},
   "outputs": [
    {
     "name": "stdout",
     "output_type": "stream",
     "text": [
      "Коэффициенты для 0 vs 1+:\n",
      " Intercept    0.884002\n",
      "pcnv         0.563424\n",
      "avgsen      -3.879963\n",
      "tottime      3.888162\n",
      "ptime86      0.078793\n",
      "qemp86      -0.064523\n",
      "inc86        0.011417\n",
      "durat       -0.017013\n",
      "black       -0.717060\n",
      "hispan      -0.325887\n",
      "born60      -0.017944\n",
      "dtype: float64\n",
      "\n",
      "Коэффициенты для 0-1 vs 2+:\n",
      " Intercept     2.115534\n",
      "pcnv         -0.000271\n",
      "avgsen      -60.675915\n",
      "tottime      60.700023\n",
      "ptime86       0.063267\n",
      "qemp86        0.094212\n",
      "inc86         0.021613\n",
      "durat         0.005830\n",
      "black        -0.705754\n",
      "hispan       -0.379478\n",
      "born60        0.342104\n",
      "dtype: float64\n"
     ]
    },
    {
     "name": "stderr",
     "output_type": "stream",
     "text": [
      "/Users/ilushka/opt/miniconda3/lib/python3.9/site-packages/statsmodels/base/model.py:607: ConvergenceWarning: Maximum Likelihood optimization failed to converge. Check mle_retvals\n",
      "  warnings.warn(\"Maximum Likelihood optimization failed to \"\n"
     ]
    }
   ],
   "source": [
    "from statsmodels.formula.api import logit\n",
    "\n",
    "df['narr86_0vs12'] = (df['narr86'] == 0).astype(int)\n",
    "df['narr86_01vs2'] = (df['narr86'] <= 1).astype(int)\n",
    "\n",
    "model_0vs12 = logit('narr86_0vs12 ~ pcnv + avgsen + tottime + ptime86 + qemp86 + inc86 + durat + black + hispan + born60', data=df).fit(disp=0)\n",
    "model_01vs2 = logit('narr86_01vs2 ~ pcnv + avgsen + tottime + ptime86 + qemp86 + inc86 + durat + black + hispan + born60', data=df).fit(disp=0)\n",
    "\n",
    "print(\"Коэффициенты для 0 vs 1+:\\n\", model_0vs12.params)\n",
    "print(\"\\nКоэффициенты для 0-1 vs 2+:\\n\", model_01vs2.params)"
   ]
  },
  {
   "cell_type": "markdown",
   "id": "0c651ed7",
   "metadata": {},
   "source": [
    "коэффициенты отличаются"
   ]
  },
  {
   "cell_type": "code",
   "execution_count": 75,
   "id": "49788131",
   "metadata": {},
   "outputs": [
    {
     "name": "stdout",
     "output_type": "stream",
     "text": [
      "LR-статистика: 18.755, p-value: 0.4727\n"
     ]
    }
   ],
   "source": [
    "from scipy import stats\n",
    "\n",
    "ll_ordered = result.llf\n",
    "\n",
    "ll_unrestricted = model_0vs12.llf + model_01vs2.llf\n",
    "\n",
    "lr_stat = -2 * (ll_ordered - ll_unrestricted)\n",
    "df = len(result.params)\n",
    "p_value = 1 - stats.chi2.cdf(lr_stat, df)\n",
    "\n",
    "print(f\"LR-статистика: {lr_stat:.3f}, p-value: {p_value:.4f}\")"
   ]
  },
  {
   "cell_type": "markdown",
   "id": "c0f14183",
   "metadata": {},
   "source": [
    "# Задание 2"
   ]
  },
  {
   "cell_type": "markdown",
   "id": "4f33bd45",
   "metadata": {},
   "source": [
    "a)"
   ]
  },
  {
   "cell_type": "code",
   "execution_count": 48,
   "id": "7ca63595",
   "metadata": {
    "scrolled": true
   },
   "outputs": [
    {
     "name": "stdout",
     "output_type": "stream",
     "text": [
      "         x2        x3    y_star  y\n",
      "0 -0.404398 -0.511497 -3.258939  0\n",
      "1 -1.187006 -0.007272 -2.510045  0\n",
      "2  0.306560  0.125198 -1.345048  0\n",
      "3 -1.753188 -1.158736 -7.543673  0\n",
      "4  0.222701  0.642967 -0.572891  0\n",
      "\n",
      "Доля y=1: 0.30875\n"
     ]
    }
   ],
   "source": [
    "import seaborn as sns\n",
    "from scipy.stats import multivariate_normal\n",
    "\n",
    "np.random.seed(42)\n",
    "n = 800\n",
    "\n",
    "mean = [0, 0]\n",
    "cov = [[1, 0.7], [0.7, 1]]\n",
    "x2, x3 = multivariate_normal.rvs(mean=mean, cov=cov, size=n).T\n",
    "\n",
    "beta1, beta2, beta3 = -1.5, 2.0, 1.5\n",
    "epsilon = np.random.normal(0, 1, n)\n",
    "y_star = beta1 + beta2 * x2 + beta3 * x3 + epsilon\n",
    "\n",
    "def sigmoid(z):\n",
    "    return 1 / (1 + np.exp(-z))\n",
    "\n",
    "y_prob = sigmoid(y_star)\n",
    "y = (y_prob > 0.5).astype(int)\n",
    "\n",
    "data = pd.DataFrame({'x2': x2, 'x3': x3, 'y_star': y_star, 'y': y})\n",
    "print(data.head())\n",
    "print(\"\\nДоля y=1:\", y.mean())"
   ]
  },
  {
   "cell_type": "markdown",
   "id": "8abcce9a",
   "metadata": {},
   "source": [
    "b)"
   ]
  },
  {
   "cell_type": "code",
   "execution_count": 49,
   "id": "98a254d3",
   "metadata": {},
   "outputs": [
    {
     "name": "stdout",
     "output_type": "stream",
     "text": [
      "ММП-оценки (ручная реализация): [-2.74448638  3.65944816  2.88980855]\n",
      "ММП-оценки (statsmodels): [-2.74448636  3.65944819  2.88980851]\n"
     ]
    }
   ],
   "source": [
    "from scipy.optimize import minimize\n",
    "\n",
    "def predict_prob(X, beta):\n",
    "    z = beta[0] + beta[1] * X[:, 0] + beta[2] * X[:, 1]\n",
    "    return 1 / (1 + np.exp(-z))\n",
    "\n",
    "def log_likelihood(beta, X, y):\n",
    "    p = predict_prob(X, beta)\n",
    "    epsilon = 1e-10\n",
    "    p = np.clip(p, epsilon, 1 - epsilon)\n",
    "    log_l = y * np.log(p) + (1 - y) * np.log(1 - p)\n",
    "    return -np.sum(log_l)\n",
    "\n",
    "X = np.column_stack((x2, x3))\n",
    "y = data['y'].values\n",
    "beta_init = np.zeros(3)\n",
    "result = minimize(log_likelihood, beta_init, args=(X, y), method='BFGS')\n",
    "beta_mle = result.x\n",
    "\n",
    "X_sm = sm.add_constant(X)\n",
    "logit_model = sm.Logit(y, X_sm).fit(disp=0)\n",
    "\n",
    "print(\"ММП-оценки (ручная реализация):\", beta_mle)\n",
    "print(\"ММП-оценки (statsmodels):\", logit_model.params)"
   ]
  },
  {
   "cell_type": "markdown",
   "id": "052b3ed2",
   "metadata": {},
   "source": [
    "с)"
   ]
  },
  {
   "cell_type": "code",
   "execution_count": 50,
   "id": "a4e07937",
   "metadata": {},
   "outputs": [
    {
     "ename": "ValueError",
     "evalue": "operands could not be broadcast together with shapes (2,) (800,) ",
     "output_type": "error",
     "traceback": [
      "\u001b[0;31m---------------------------------------------------------------------------\u001b[0m",
      "\u001b[0;31mValueError\u001b[0m                                Traceback (most recent call last)",
      "Cell \u001b[0;32mIn [50], line 68\u001b[0m\n\u001b[1;32m     65\u001b[0m \u001b[38;5;66;03m# Пример использования:\u001b[39;00m\n\u001b[1;32m     66\u001b[0m \u001b[38;5;66;03m# beta_mle и cov_matrix берём из предыдущего пункта (MLE-оценки)\u001b[39;00m\n\u001b[1;32m     67\u001b[0m cov_matrix \u001b[38;5;241m=\u001b[39m np\u001b[38;5;241m.\u001b[39mlinalg\u001b[38;5;241m.\u001b[39minv(\u001b[38;5;241m-\u001b[39mresult\u001b[38;5;241m.\u001b[39mhess_inv)  \u001b[38;5;66;03m# Оценка ковариационной матрицы\u001b[39;00m\n\u001b[0;32m---> 68\u001b[0m marginal_results \u001b[38;5;241m=\u001b[39m \u001b[43mmarginal_effects\u001b[49m\u001b[43m(\u001b[49m\u001b[43mX\u001b[49m\u001b[43m,\u001b[49m\u001b[43m \u001b[49m\u001b[43mbeta_mle\u001b[49m\u001b[43m,\u001b[49m\u001b[43m \u001b[49m\u001b[43mcov_matrix\u001b[49m\u001b[43m)\u001b[49m\n\u001b[1;32m     69\u001b[0m \u001b[38;5;28mprint\u001b[39m(marginal_results)\n",
      "Cell \u001b[0;32mIn [50], line 28\u001b[0m, in \u001b[0;36mmarginal_effects\u001b[0;34m(X, beta, cov_matrix, alpha)\u001b[0m\n\u001b[1;32m     25\u001b[0m q \u001b[38;5;241m=\u001b[39m \u001b[38;5;241m1\u001b[39m \u001b[38;5;241m-\u001b[39m p  \u001b[38;5;66;03m# P(y=0|x)\u001b[39;00m\n\u001b[1;32m     27\u001b[0m \u001b[38;5;66;03m# Предельные эффекты для P(y=1|x) и P(y=0|x)\u001b[39;00m\n\u001b[0;32m---> 28\u001b[0m me1 \u001b[38;5;241m=\u001b[39m \u001b[43mbeta\u001b[49m\u001b[43m[\u001b[49m\u001b[38;5;241;43m1\u001b[39;49m\u001b[43m:\u001b[49m\u001b[43m]\u001b[49m\u001b[43m \u001b[49m\u001b[38;5;241;43m*\u001b[39;49m\u001b[43m \u001b[49m\u001b[43mp\u001b[49m \u001b[38;5;241m*\u001b[39m q  \u001b[38;5;66;03m# для P(y=1|x)\u001b[39;00m\n\u001b[1;32m     29\u001b[0m me0 \u001b[38;5;241m=\u001b[39m \u001b[38;5;241m-\u001b[39mbeta[\u001b[38;5;241m1\u001b[39m:] \u001b[38;5;241m*\u001b[39m p \u001b[38;5;241m*\u001b[39m q  \u001b[38;5;66;03m# для P(y=0|x)\u001b[39;00m\n\u001b[1;32m     31\u001b[0m \u001b[38;5;66;03m# Стандартные ошибки (дельта-метод)\u001b[39;00m\n\u001b[1;32m     32\u001b[0m \u001b[38;5;66;03m# Градиент для предельного эффекта: d(me)/d(beta) = p*q * (1 - 2p) * x * beta + p*q * I\u001b[39;00m\n",
      "\u001b[0;31mValueError\u001b[0m: operands could not be broadcast together with shapes (2,) (800,) "
     ]
    }
   ],
   "source": [
    "import numpy as np\n",
    "import pandas as pd\n",
    "from scipy.stats import norm\n",
    "\n",
    "# Функция для расчёта предельных эффектов и их статистик\n",
    "def marginal_effects(X, beta, cov_matrix, alpha=0.05):\n",
    "    \"\"\"\n",
    "    Параметры:\n",
    "    - X: матрица признаков (n x k)\n",
    "    - beta: оценки коэффициентов (k,)\n",
    "    - cov_matrix: ковариационная матрица оценок коэффициентов (k x k)\n",
    "    - alpha: уровень значимости для доверительных интервалов\n",
    "    \n",
    "    Возвращает:\n",
    "    - DataFrame с предельными эффектами, стандартными ошибками, \n",
    "      z-статистиками, p-value и доверительными интервалами.\n",
    "    \"\"\"\n",
    "    n = X.shape[0]\n",
    "    k = X.shape[1]\n",
    "    \n",
    "    # Предсказанные вероятности P(y=1|x)\n",
    "    X_with_const = np.column_stack((np.ones(n), X))  # Добавляем константу\n",
    "    z = X_with_const @ beta\n",
    "    p = 1 / (1 + np.exp(-z))  # P(y=1|x)\n",
    "    q = 1 - p  # P(y=0|x)\n",
    "    \n",
    "    # Предельные эффекты для P(y=1|x) и P(y=0|x)\n",
    "    me1 = beta[1:] * p * q  # для P(y=1|x)\n",
    "    me0 = -beta[1:] * p * q  # для P(y=0|x)\n",
    "    \n",
    "    # Стандартные ошибки (дельта-метод)\n",
    "    # Градиент для предельного эффекта: d(me)/d(beta) = p*q * (1 - 2p) * x * beta + p*q * I\n",
    "    grad_me1 = np.zeros((k-1, k))\n",
    "    for j in range(k-1):\n",
    "        grad_me1[j, 0] = beta[j+1] * p * q * (1 - 2*p)  # по beta0\n",
    "        grad_me1[j, j+1] = p * q + beta[j+1] * p * q * (1 - 2*p) * X[:, j]  # по beta_j\n",
    "    \n",
    "    # Ковариационная матрица предельных эффектов\n",
    "    cov_me1 = grad_me1 @ cov_matrix @ grad_me1.T\n",
    "    se_me1 = np.sqrt(np.diag(cov_me1))\n",
    "    \n",
    "    # Z-статистики и p-value\n",
    "    z_stats = me1 / se_me1\n",
    "    p_values = 2 * (1 - norm.cdf(np.abs(z_stats)))\n",
    "    \n",
    "    # Доверительные интервалы\n",
    "    z_critical = norm.ppf(1 - alpha/2)\n",
    "    ci_lower = me1 - z_critical * se_me1\n",
    "    ci_upper = me1 + z_critical * se_me1\n",
    "    \n",
    "    # Собираем результаты в DataFrame\n",
    "    results = pd.DataFrame({\n",
    "        'Variable': [f'x_{j+2}' for j in range(k-1)],\n",
    "        'Marginal Effect (P=1)': me1,\n",
    "        'Std. Error': se_me1,\n",
    "        'z-value': z_stats,\n",
    "        'P>|z|': p_values,\n",
    "        f'CI [{alpha/2*100}%': ci_lower,\n",
    "        f'CI {1-alpha/2*100}%]': ci_upper,\n",
    "        'Marginal Effect (P=0)': me0\n",
    "    })\n",
    "    \n",
    "    return results\n",
    "\n",
    "# Пример использования:\n",
    "# beta_mle и cov_matrix берём из предыдущего пункта (MLE-оценки)\n",
    "cov_matrix = np.linalg.inv(-result.hess_inv)  # Оценка ковариационной матрицы\n",
    "marginal_results = marginal_effects(X, beta_mle, cov_matrix)\n",
    "print(marginal_results)"
   ]
  },
  {
   "cell_type": "markdown",
   "id": "3eadeb2a",
   "metadata": {},
   "source": [
    "d)"
   ]
  },
  {
   "cell_type": "code",
   "execution_count": 14,
   "id": "cde3a411",
   "metadata": {},
   "outputs": [],
   "source": [
    "import numpy as np\n",
    "from scipy.stats import chi2\n",
    "\n",
    "def wald_test(X, y, beta_hat, R, q):\n",
    "    \"\"\"\n",
    "    Аргументы:\n",
    "        X - матрица признаков (n x k)\n",
    "        y - вектор целевой переменной (n,)\n",
    "        beta_hat - ММП-оценки параметров (k,)\n",
    "        R - матрица ограничений (r x k)\n",
    "        q - вектор значений ограничений (r,)\n",
    "        \n",
    "    Возвращает:\n",
    "        W - статистика Вальда\n",
    "        p_value - p-значение теста\n",
    "    \"\"\"\n",
    "    n = X.shape[0]\n",
    "    k = X.shape[1]\n",
    "    \n",
    "    p_hat = 1 / (1 + np.exp(-X @ beta_hat))\n",
    "    \n",
    "    I = np.zeros((k, k))\n",
    "    for i in range(n):\n",
    "        x_i = X[i, :].reshape(-1, 1)\n",
    "        I += p_hat[i] * (1 - p_hat[i]) * (x_i @ x_i.T)\n",
    "    I_inv = np.linalg.inv(I)\n",
    "    \n",
    "    r_diff = R @ beta_hat - q\n",
    "    r_cov = R @ I_inv @ R.T\n",
    "    W = r_diff.T @ np.linalg.inv(r_cov) @ r_diff\n",
    "    \n",
    "    r = R.shape[0]\n",
    "    p_value = 1 - chi2.cdf(W, r)\n",
    "    \n",
    "    return W, p_value"
   ]
  },
  {
   "cell_type": "code",
   "execution_count": 15,
   "id": "d39e1e56",
   "metadata": {},
   "outputs": [],
   "source": [
    "def likelihood_ratio_test(X, y, beta_hat, beta_restricted):\n",
    "    \"\"\"\n",
    "    Аргументы:\n",
    "        X - матрица признаков (n x k)\n",
    "        y - вектор целевой переменной (n,)\n",
    "        beta_hat - ММП-оценки полной модели (k,)\n",
    "        beta_restricted - оценки ограниченной модели (k,)\n",
    "        \n",
    "    Возвращает:\n",
    "        LR - статистика отношения правдоподобия\n",
    "        p_value - p-значение теста\n",
    "    \"\"\"\n",
    "    p_full = 1 / (1 + np.exp(-X @ beta_hat))\n",
    "    logL_full = np.sum(y * np.log(p_full + 1e-10)) + np.sum((1 - y) * np.log(1 - p_full + 1e-10))\n",
    "    \n",
    "    p_restricted = 1 / (1 + np.exp(-X @ beta_restricted))\n",
    "    logL_restricted = np.sum(y * np.log(p_restricted + 1e-10)) + np.sum((1 - y) * np.log(1 - p_restricted + 1e-10))\n",
    "    \n",
    "    LR = 2 * (logL_full - logL_restricted)\n",
    "    \n",
    "    r = np.sum(beta_hat != beta_restricted)\n",
    "    p_value = 1 - chi2.cdf(LR, r)\n",
    "    \n",
    "    return LR, p_value"
   ]
  },
  {
   "cell_type": "code",
   "execution_count": 16,
   "id": "a09fa2ad",
   "metadata": {},
   "outputs": [],
   "source": [
    "def lagrange_multiplier_test(X, y, beta_restricted):\n",
    "    \"\"\"\n",
    "    Аргументы:\n",
    "        X - матрица признаков (n x k)\n",
    "        y - вектор целевой переменной (n,)\n",
    "        beta_restricted - оценки ограниченной модели (k,)\n",
    "        \n",
    "    Возвращает:\n",
    "        LM - статистика множителей Лагранжа\n",
    "        p_value - p-значение теста\n",
    "    \"\"\"\n",
    "    n = X.shape[0]\n",
    "    k = X.shape[1]\n",
    "    \n",
    "    p_restricted = 1 / (1 + np.exp(-X @ beta_restricted))\n",
    "    s = X.T @ (y - p_restricted)  # (k,)\n",
    "    \n",
    "    I = np.zeros((k, k))\n",
    "    for i in range(n):\n",
    "        x_i = X[i, :].reshape(-1, 1)\n",
    "        I += p_restricted[i] * (1 - p_restricted[i]) * (x_i @ x_i.T)\n",
    "    I_inv = np.linalg.inv(I)\n",
    "    \n",
    "    LM = s.T @ I_inv @ s\n",
    "    \n",
    "    r = np.sum(beta_restricted != 0)\n",
    "    p_value = 1 - chi2.cdf(LM, r)\n",
    "    \n",
    "    return LM, p_value"
   ]
  },
  {
   "cell_type": "markdown",
   "id": "ef9d1ba5",
   "metadata": {},
   "source": [
    "e)"
   ]
  },
  {
   "cell_type": "code",
   "execution_count": 18,
   "id": "1a90424b",
   "metadata": {
    "scrolled": true
   },
   "outputs": [
    {
     "name": "stdout",
     "output_type": "stream",
     "text": [
      "Wald Test:      W = 54.868,  p-value = 0.0000\n",
      "LR Test:       LR = 161.871,  p-value = 0.0000\n",
      "LM Test:       LM = 142.012,  p-value = 0.0000\n",
      "Критическое значение (χ², α=0.05): 3.841\n",
      "\n",
      "Wald Test (statsmodels):\n",
      "W = 54.868, p-value = 0.0000\n"
     ]
    },
    {
     "name": "stderr",
     "output_type": "stream",
     "text": [
      "/Users/ilushka/opt/miniconda3/lib/python3.9/site-packages/statsmodels/base/model.py:1914: FutureWarning: The behavior of wald_test will change after 0.14 to returning scalar test statistic values. To get the future behavior now, set scalar to True. To silence this message while retaining the legacy behavior, set scalar to False.\n",
      "  warnings.warn(\n"
     ]
    }
   ],
   "source": [
    "from scipy.stats import chi2\n",
    "\n",
    "X = np.column_stack((x2, x3))\n",
    "X = sm.add_constant(X)\n",
    "y = data['y'].values\n",
    "\n",
    "logit_model = sm.Logit(y, X).fit(disp=0)\n",
    "beta_hat = logit_model.params\n",
    "\n",
    "beta_restricted = np.array([beta_hat[0], 1.0, beta_hat[2]])\n",
    "\n",
    "R = np.array([[0, 1, 0]])\n",
    "q = np.array([1.0])\n",
    "\n",
    "W, p_wald = wald_test(X, y, beta_hat, R, q)\n",
    "LR, p_lr = likelihood_ratio_test(X, y, beta_hat, beta_restricted)\n",
    "LM, p_lm = lagrange_multiplier_test(X, y, beta_restricted)\n",
    "crit_value = chi2.ppf(0.95, df=1)\n",
    "\n",
    "wald_result = logit_model.wald_test(\"x1 = 1.0\")\n",
    "\n",
    "print(f\"Wald Test:      W = {W:.3f},  p-value = {p_wald:.4f}\")\n",
    "print(f\"LR Test:       LR = {LR:.3f},  p-value = {p_lr:.4f}\")\n",
    "print(f\"LM Test:       LM = {LM:.3f},  p-value = {p_lm:.4f}\")\n",
    "print(f\"Критическое значение (χ², α=0.05): {crit_value:.3f}\")\n",
    "print(\"\\nWald Test (statsmodels):\")\n",
    "print(f\"W = {wald_result.statistic.item():.3f}, p-value = {wald_result.pvalue:.4f}\")"
   ]
  },
  {
   "cell_type": "markdown",
   "id": "2033763e",
   "metadata": {},
   "source": [
    "f)"
   ]
  },
  {
   "cell_type": "code",
   "execution_count": 21,
   "id": "e1be829e",
   "metadata": {},
   "outputs": [
    {
     "name": "stdout",
     "output_type": "stream",
     "text": [
      "Wald Test:      W = 54.206,  p-value = 0.0000\n",
      "LR Test:       LR = 3068.778,  p-value = 0.0000\n",
      "LM Test:       LM = 167588977311727976448.000,  p-value = 0.0000\n",
      "Критическое значение (χ², α=0.05): 3.841\n",
      "\n",
      "Wald Test (statsmodels):\n",
      "W = 54.206, p-value = 0.0000\n"
     ]
    },
    {
     "name": "stderr",
     "output_type": "stream",
     "text": [
      "/var/folders/42/9cgz73ss3qzdqc049vnjqf6m0000gp/T/ipykernel_14594/1584130268.py:10: RuntimeWarning: overflow encountered in exp\n",
      "  p = 1 / (1 + np.exp(-X @ beta))\n",
      "/var/folders/42/9cgz73ss3qzdqc049vnjqf6m0000gp/T/ipykernel_14594/1584130268.py:10: RuntimeWarning: overflow encountered in exp\n",
      "  p = 1 / (1 + np.exp(-X @ beta))\n",
      "/var/folders/42/9cgz73ss3qzdqc049vnjqf6m0000gp/T/ipykernel_14594/1584130268.py:10: RuntimeWarning: overflow encountered in exp\n",
      "  p = 1 / (1 + np.exp(-X @ beta))\n",
      "/var/folders/42/9cgz73ss3qzdqc049vnjqf6m0000gp/T/ipykernel_14594/1584130268.py:10: RuntimeWarning: overflow encountered in exp\n",
      "  p = 1 / (1 + np.exp(-X @ beta))\n",
      "/var/folders/42/9cgz73ss3qzdqc049vnjqf6m0000gp/T/ipykernel_14594/2941974368.py:18: RuntimeWarning: overflow encountered in exp\n",
      "  p_restricted = 1 / (1 + np.exp(-X @ beta_restricted))\n",
      "/var/folders/42/9cgz73ss3qzdqc049vnjqf6m0000gp/T/ipykernel_14594/3691908953.py:16: RuntimeWarning: overflow encountered in exp\n",
      "  p_restricted = 1 / (1 + np.exp(-X @ beta_restricted))\n",
      "/Users/ilushka/opt/miniconda3/lib/python3.9/site-packages/statsmodels/base/model.py:1914: FutureWarning: The behavior of wald_test will change after 0.14 to returning scalar test statistic values. To get the future behavior now, set scalar to True. To silence this message while retaining the legacy behavior, set scalar to False.\n",
      "  warnings.warn(\n"
     ]
    }
   ],
   "source": [
    "def fit_restricted_model(X, y, R, q):\n",
    "    \"\"\"Подгоняет модель с ограничением R @ beta = q.\"\"\"\n",
    "    n, k = X.shape\n",
    "    beta_init = np.zeros(k)\n",
    "    \n",
    "    def objective(beta_lambda):\n",
    "        beta = beta_lambda[:k]\n",
    "        lagrange = beta_lambda[-1]\n",
    "        p = 1 / (1 + np.exp(-X @ beta))\n",
    "        logL = np.sum(y * np.log(p + 1e-10)) + np.sum((1 - y) * np.log(1 - p + 1e-10))\n",
    "        constraint = R @ beta - q\n",
    "        return -logL + lagrange * constraint\n",
    "    \n",
    "    res = minimize(objective, np.zeros(k + 1), method='BFGS')\n",
    "    beta_restricted = res.x[:k]\n",
    "    return beta_restricted\n",
    "\n",
    "R = np.array([[0, 1, 1]])\n",
    "q = np.array([2.5])\n",
    "\n",
    "beta_restricted = fit_restricted_model(X, y, R, q)\n",
    "\n",
    "W, p_wald = wald_test(X, y, beta_hat, R, q)\n",
    "LR, p_lr = likelihood_ratio_test(X, y, beta_hat, beta_restricted)\n",
    "LM, p_lm = lagrange_multiplier_test(X, y, beta_restricted)\n",
    "crit_value = chi2.ppf(0.95, df=1)\n",
    "\n",
    "wald_result = logit_model.wald_test(\"x1 + x2 = 2.5\")\n",
    "\n",
    "print(f\"Wald Test:      W = {W:.3f},  p-value = {p_wald:.4f}\")\n",
    "print(f\"LR Test:       LR = {LR:.3f},  p-value = {p_lr:.4f}\")\n",
    "print(f\"LM Test:       LM = {LM:.3f},  p-value = {p_lm:.4f}\")\n",
    "print(f\"Критическое значение (χ², α=0.05): {crit_value:.3f}\")\n",
    "print(\"\\nWald Test (statsmodels):\")\n",
    "print(f\"W = {wald_result.statistic.item():.3f}, p-value = {wald_result.pvalue:.4f}\")"
   ]
  },
  {
   "cell_type": "markdown",
   "id": "8995b241",
   "metadata": {},
   "source": [
    "g)"
   ]
  },
  {
   "cell_type": "code",
   "execution_count": 22,
   "id": "8e2dad6e",
   "metadata": {},
   "outputs": [
    {
     "name": "stdout",
     "output_type": "stream",
     "text": [
      "Исходный тест (β₂ + β₃ = 2.5):\n",
      "W = 54.206, p-value = 0.0000\n",
      "\n",
      "Альтернативный тест (β₂ = 1.5):\n",
      "W = 36.176, p-value = 0.0000\n",
      "\n",
      "Wald Test (statsmodels, β₂ = 1.5):\n",
      "W = 36.176, p-value = 0.0000\n"
     ]
    }
   ],
   "source": [
    "R_alt = np.array([[0, 1, 0]])\n",
    "q_alt = np.array([1.5])\n",
    "\n",
    "W_alt, p_wald_alt = wald_test(X, y, beta_hat, R_alt, q_alt)\n",
    "\n",
    "print(\"Исходный тест (β₂ + β₃ = 2.5):\")\n",
    "print(f\"W = {W:.3f}, p-value = {p_wald:.4f}\\n\")\n",
    "\n",
    "print(\"Альтернативный тест (β₂ = 1.5):\")\n",
    "print(f\"W = {W_alt:.3f}, p-value = {p_wald_alt:.4f}\")\n",
    "\n",
    "wald_result_alt = logit_model.wald_test(\"x1 = 1.5\")\n",
    "print(\"\\nWald Test (statsmodels, β₂ = 1.5):\")\n",
    "print(f\"W = {wald_result_alt.statistic.item():.3f}, p-value = {wald_result_alt.pvalue:.4f}\")"
   ]
  },
  {
   "cell_type": "code",
   "execution_count": 24,
   "id": "8e15c0cd",
   "metadata": {},
   "outputs": [
    {
     "data": {
      "image/png": "[encoded data removed]",
      "text/plain": [
       "<Figure size 640x480 with 1 Axes>"
      ]
     },
     "metadata": {},
     "output_type": "display_data"
    }
   ],
   "source": [
    "import matplotlib.pyplot as plt\n",
    "\n",
    "plt.bar([\"Исходный (β₂+β₃=2.5)\", \"Альтернативный (β₂=1.5)\"], [W, W_alt])\n",
    "plt.axhline(y=crit_value, color='r', linestyle='--', label='Критическое значение (α=0.05)')\n",
    "plt.ylabel(\"Статистика Вальда (W)\")\n",
    "plt.title(\"Сравнение тестов Вальда\")\n",
    "plt.legend()\n",
    "plt.show()"
   ]
  }
 ],
 "metadata": {
  "kernelspec": {
   "display_name": "Python 3 (ipykernel)",
   "language": "python",
   "name": "python3"
  },
  "language_info": {
   "codemirror_mode": {
    "name": "ipython",
    "version": 3
   },
   "file_extension": ".py",
   "mimetype": "text/x-python",
   "name": "python",
   "nbconvert_exporter": "python",
   "pygments_lexer": "ipython3",
   "version": "3.9.19"
  }
 },
 "nbformat": 4,
 "nbformat_minor": 5
}
