{
 "cells": [
  {
   "cell_type": "markdown",
   "id": "dede996f",
   "metadata": {},
   "source": [
    "# Добин. Вариант 27"
   ]
  },
  {
   "cell_type": "code",
   "execution_count": 1,
   "id": "91be8f99",
   "metadata": {},
   "outputs": [],
   "source": [
    "import pandas as pd\n",
    "import matplotlib.pyplot as plt\n",
    "import numpy as np"
   ]
  },
  {
   "cell_type": "code",
   "execution_count": 2,
   "id": "46ade10c",
   "metadata": {},
   "outputs": [
    {
     "data": {
      "text/html": [
       "<div>\n",
       "<style scoped>\n",
       "    .dataframe tbody tr th:only-of-type {\n",
       "        vertical-align: middle;\n",
       "    }\n",
       "\n",
       "    .dataframe tbody tr th {\n",
       "        vertical-align: top;\n",
       "    }\n",
       "\n",
       "    .dataframe thead th {\n",
       "        text-align: right;\n",
       "    }\n",
       "</style>\n",
       "<table border=\"1\" class=\"dataframe\">\n",
       "  <thead>\n",
       "    <tr style=\"text-align: right;\">\n",
       "      <th></th>\n",
       "      <th>region</th>\n",
       "      <th>educ</th>\n",
       "      <th>age</th>\n",
       "      <th>female</th>\n",
       "      <th>industry</th>\n",
       "      <th>work_hours</th>\n",
       "      <th>wage</th>\n",
       "      <th>foreign_language</th>\n",
       "      <th>internet</th>\n",
       "      <th>alcohol</th>\n",
       "      <th>is_children</th>\n",
       "      <th>health</th>\n",
       "      <th>weight</th>\n",
       "      <th>height</th>\n",
       "      <th>smoke</th>\n",
       "      <th>year</th>\n",
       "    </tr>\n",
       "  </thead>\n",
       "  <tbody>\n",
       "    <tr>\n",
       "      <th>143</th>\n",
       "      <td>Оренбургская область, Орск</td>\n",
       "      <td>0</td>\n",
       "      <td>40,5</td>\n",
       "      <td>0</td>\n",
       "      <td>ТРАНСПОРТ, СВЯЗЬ</td>\n",
       "      <td>12</td>\n",
       "      <td>45000</td>\n",
       "      <td>0</td>\n",
       "      <td>1</td>\n",
       "      <td>1</td>\n",
       "      <td>1</td>\n",
       "      <td>0</td>\n",
       "      <td>80</td>\n",
       "      <td>180</td>\n",
       "      <td>1</td>\n",
       "      <td>2023</td>\n",
       "    </tr>\n",
       "    <tr>\n",
       "      <th>515</th>\n",
       "      <td>Оренбургская область, Орск</td>\n",
       "      <td>1</td>\n",
       "      <td>55</td>\n",
       "      <td>1</td>\n",
       "      <td>ОБРАЗОВАНИЕ</td>\n",
       "      <td>5</td>\n",
       "      <td>15000</td>\n",
       "      <td>1</td>\n",
       "      <td>1</td>\n",
       "      <td>1</td>\n",
       "      <td>1</td>\n",
       "      <td>0</td>\n",
       "      <td>87</td>\n",
       "      <td>166</td>\n",
       "      <td>0</td>\n",
       "      <td>2023</td>\n",
       "    </tr>\n",
       "    <tr>\n",
       "      <th>631</th>\n",
       "      <td>Оренбургская область, Орск</td>\n",
       "      <td>2</td>\n",
       "      <td>46</td>\n",
       "      <td>1</td>\n",
       "      <td>ОБРАЗОВАНИЕ</td>\n",
       "      <td>8</td>\n",
       "      <td>32000</td>\n",
       "      <td>1</td>\n",
       "      <td>1</td>\n",
       "      <td>1</td>\n",
       "      <td>1</td>\n",
       "      <td>1</td>\n",
       "      <td>59</td>\n",
       "      <td>156</td>\n",
       "      <td>0</td>\n",
       "      <td>2023</td>\n",
       "    </tr>\n",
       "    <tr>\n",
       "      <th>632</th>\n",
       "      <td>Оренбургская область, Орск</td>\n",
       "      <td>0</td>\n",
       "      <td>47</td>\n",
       "      <td>0</td>\n",
       "      <td>ТРАНСПОРТ, СВЯЗЬ</td>\n",
       "      <td>12</td>\n",
       "      <td>50000</td>\n",
       "      <td>1</td>\n",
       "      <td>1</td>\n",
       "      <td>1</td>\n",
       "      <td>1</td>\n",
       "      <td>0</td>\n",
       "      <td>115</td>\n",
       "      <td>186</td>\n",
       "      <td>0</td>\n",
       "      <td>2023</td>\n",
       "    </tr>\n",
       "    <tr>\n",
       "      <th>633</th>\n",
       "      <td>Оренбургская область, Орск</td>\n",
       "      <td>1</td>\n",
       "      <td>54,5</td>\n",
       "      <td>1</td>\n",
       "      <td>ВОЕННО-ПРОМЫШЛЕННЫЙ КОМПЛЕКС</td>\n",
       "      <td>8</td>\n",
       "      <td>38700</td>\n",
       "      <td>0</td>\n",
       "      <td>1</td>\n",
       "      <td>0</td>\n",
       "      <td>1</td>\n",
       "      <td>1</td>\n",
       "      <td>60</td>\n",
       "      <td>152</td>\n",
       "      <td>0</td>\n",
       "      <td>2023</td>\n",
       "    </tr>\n",
       "    <tr>\n",
       "      <th>...</th>\n",
       "      <td>...</td>\n",
       "      <td>...</td>\n",
       "      <td>...</td>\n",
       "      <td>...</td>\n",
       "      <td>...</td>\n",
       "      <td>...</td>\n",
       "      <td>...</td>\n",
       "      <td>...</td>\n",
       "      <td>...</td>\n",
       "      <td>...</td>\n",
       "      <td>...</td>\n",
       "      <td>...</td>\n",
       "      <td>...</td>\n",
       "      <td>...</td>\n",
       "      <td>...</td>\n",
       "      <td>...</td>\n",
       "    </tr>\n",
       "    <tr>\n",
       "      <th>4512</th>\n",
       "      <td>Оренбургская область, Орск</td>\n",
       "      <td>2</td>\n",
       "      <td>43</td>\n",
       "      <td>1</td>\n",
       "      <td>ОРГАНЫ УПРАВЛЕНИЯ</td>\n",
       "      <td>8</td>\n",
       "      <td>40000</td>\n",
       "      <td>1</td>\n",
       "      <td>1</td>\n",
       "      <td>1</td>\n",
       "      <td>1</td>\n",
       "      <td>0</td>\n",
       "      <td>69</td>\n",
       "      <td>158</td>\n",
       "      <td>0</td>\n",
       "      <td>2023</td>\n",
       "    </tr>\n",
       "    <tr>\n",
       "      <th>4513</th>\n",
       "      <td>Оренбургская область, Орск</td>\n",
       "      <td>2</td>\n",
       "      <td>37</td>\n",
       "      <td>0</td>\n",
       "      <td>ТРАНСПОРТ, СВЯЗЬ</td>\n",
       "      <td>12</td>\n",
       "      <td>40000</td>\n",
       "      <td>1</td>\n",
       "      <td>1</td>\n",
       "      <td>1</td>\n",
       "      <td>1</td>\n",
       "      <td>0</td>\n",
       "      <td>94</td>\n",
       "      <td>170</td>\n",
       "      <td>0</td>\n",
       "      <td>2023</td>\n",
       "    </tr>\n",
       "    <tr>\n",
       "      <th>4514</th>\n",
       "      <td>Оренбургская область, Орск</td>\n",
       "      <td>2</td>\n",
       "      <td>37</td>\n",
       "      <td>1</td>\n",
       "      <td>ТОРГОВЛЯ, БЫТОВОЕ ОБСЛУЖИВАНИЕ</td>\n",
       "      <td>10</td>\n",
       "      <td>30000</td>\n",
       "      <td>1</td>\n",
       "      <td>1</td>\n",
       "      <td>1</td>\n",
       "      <td>1</td>\n",
       "      <td>0</td>\n",
       "      <td>62</td>\n",
       "      <td>158</td>\n",
       "      <td>0</td>\n",
       "      <td>2023</td>\n",
       "    </tr>\n",
       "    <tr>\n",
       "      <th>4515</th>\n",
       "      <td>Оренбургская область, Орск</td>\n",
       "      <td>1</td>\n",
       "      <td>44</td>\n",
       "      <td>0</td>\n",
       "      <td>ТОРГОВЛЯ, БЫТОВОЕ ОБСЛУЖИВАНИЕ</td>\n",
       "      <td>8</td>\n",
       "      <td>50000</td>\n",
       "      <td>1</td>\n",
       "      <td>1</td>\n",
       "      <td>1</td>\n",
       "      <td>1</td>\n",
       "      <td>0</td>\n",
       "      <td>89</td>\n",
       "      <td>183</td>\n",
       "      <td>0</td>\n",
       "      <td>2023</td>\n",
       "    </tr>\n",
       "    <tr>\n",
       "      <th>4516</th>\n",
       "      <td>Оренбургская область, Орск</td>\n",
       "      <td>2</td>\n",
       "      <td>43</td>\n",
       "      <td>1</td>\n",
       "      <td>ФИНАНСЫ</td>\n",
       "      <td>8</td>\n",
       "      <td>50000</td>\n",
       "      <td>1</td>\n",
       "      <td>1</td>\n",
       "      <td>1</td>\n",
       "      <td>1</td>\n",
       "      <td>0</td>\n",
       "      <td>64</td>\n",
       "      <td>159</td>\n",
       "      <td>0</td>\n",
       "      <td>2023</td>\n",
       "    </tr>\n",
       "  </tbody>\n",
       "</table>\n",
       "<p>115 rows × 16 columns</p>\n",
       "</div>"
      ],
      "text/plain": [
       "                          region  educ   age  female  \\\n",
       "143   Оренбургская область, Орск     0  40,5       0   \n",
       "515   Оренбургская область, Орск     1    55       1   \n",
       "631   Оренбургская область, Орск     2    46       1   \n",
       "632   Оренбургская область, Орск     0    47       0   \n",
       "633   Оренбургская область, Орск     1  54,5       1   \n",
       "...                          ...   ...   ...     ...   \n",
       "4512  Оренбургская область, Орск     2    43       1   \n",
       "4513  Оренбургская область, Орск     2    37       0   \n",
       "4514  Оренбургская область, Орск     2    37       1   \n",
       "4515  Оренбургская область, Орск     1    44       0   \n",
       "4516  Оренбургская область, Орск     2    43       1   \n",
       "\n",
       "                            industry  work_hours   wage  foreign_language  \\\n",
       "143                 ТРАНСПОРТ, СВЯЗЬ          12  45000                 0   \n",
       "515                      ОБРАЗОВАНИЕ           5  15000                 1   \n",
       "631                      ОБРАЗОВАНИЕ           8  32000                 1   \n",
       "632                 ТРАНСПОРТ, СВЯЗЬ          12  50000                 1   \n",
       "633     ВОЕННО-ПРОМЫШЛЕННЫЙ КОМПЛЕКС           8  38700                 0   \n",
       "...                              ...         ...    ...               ...   \n",
       "4512               ОРГАНЫ УПРАВЛЕНИЯ           8  40000                 1   \n",
       "4513                ТРАНСПОРТ, СВЯЗЬ          12  40000                 1   \n",
       "4514  ТОРГОВЛЯ, БЫТОВОЕ ОБСЛУЖИВАНИЕ          10  30000                 1   \n",
       "4515  ТОРГОВЛЯ, БЫТОВОЕ ОБСЛУЖИВАНИЕ           8  50000                 1   \n",
       "4516                         ФИНАНСЫ           8  50000                 1   \n",
       "\n",
       "      internet  alcohol  is_children  health weight height  smoke  year  \n",
       "143          1        1            1       0     80    180      1  2023  \n",
       "515          1        1            1       0     87    166      0  2023  \n",
       "631          1        1            1       1     59    156      0  2023  \n",
       "632          1        1            1       0    115    186      0  2023  \n",
       "633          1        0            1       1     60    152      0  2023  \n",
       "...        ...      ...          ...     ...    ...    ...    ...   ...  \n",
       "4512         1        1            1       0     69    158      0  2023  \n",
       "4513         1        1            1       0     94    170      0  2023  \n",
       "4514         1        1            1       0     62    158      0  2023  \n",
       "4515         1        1            1       0     89    183      0  2023  \n",
       "4516         1        1            1       0     64    159      0  2023  \n",
       "\n",
       "[115 rows x 16 columns]"
      ]
     },
     "execution_count": 2,
     "metadata": {},
     "output_type": "execute_result"
    }
   ],
   "source": [
    "df_hw = pd.read_csv(\"Homework_2_data.csv\", sep=\";\")\n",
    "year = 2023\n",
    "industry = ''\n",
    "region = \"Оренбургская область, Орск\"\n",
    "if industry == '':\n",
    "    df = (df_hw[(df_hw.year == year) \n",
    "                     & (df_hw.region == region)])\n",
    "elif region == '':\n",
    "    df = (df_hw[(df_hw.year == year) \n",
    "                     & (df_hw. industry == industry )])\n",
    "df"
   ]
  },
  {
   "cell_type": "code",
   "execution_count": 3,
   "id": "aa215729",
   "metadata": {},
   "outputs": [],
   "source": [
    "df=df.copy()\n",
    "df['age'] = df['age'].str.replace(',', '.')\n",
    "df['age'] = pd.to_numeric(df['age'])\n",
    "df['height'] = pd.to_numeric(df['height'])\n",
    "df['weight'] = pd.to_numeric(df['weight'])\n",
    "df['wage'] = pd.to_numeric(df['wage'])"
   ]
  },
  {
   "cell_type": "markdown",
   "id": "63e30121",
   "metadata": {},
   "source": [
    "# 1."
   ]
  },
  {
   "cell_type": "code",
   "execution_count": 4,
   "id": "3625b19d",
   "metadata": {},
   "outputs": [
    {
     "name": "stdout",
     "output_type": "stream",
     "text": [
      "                            OLS Regression Results                            \n",
      "==============================================================================\n",
      "Dep. Variable:                   wage   R-squared:                       0.098\n",
      "Model:                            OLS   Adj. R-squared:                  0.066\n",
      "Method:                 Least Squares   F-statistic:                     2.998\n",
      "Date:                Sun, 15 Dec 2024   Prob (F-statistic):             0.0216\n",
      "Time:                        23:35:08   Log-Likelihood:                -1317.4\n",
      "No. Observations:                 115   AIC:                             2645.\n",
      "Df Residuals:                     110   BIC:                             2658.\n",
      "Df Model:                           4                                         \n",
      "Covariance Type:            nonrobust                                         \n",
      "===============================================================================\n",
      "                  coef    std err          t      P>|t|      [0.025      0.975]\n",
      "-------------------------------------------------------------------------------\n",
      "age          -129.8541    253.078     -0.513      0.609    -631.396     371.688\n",
      "high         4920.6303   4742.293      1.038      0.302   -4477.481    1.43e+04\n",
      "female      -1.622e+04   4961.997     -3.269      0.001   -2.61e+04   -6389.210\n",
      "is_children  5.035e+04    1.3e+04      3.868      0.000    2.46e+04    7.61e+04\n",
      "smoke       -3519.7557   6230.002     -0.565      0.573   -1.59e+04    8826.647\n",
      "==============================================================================\n",
      "Omnibus:                      151.308   Durbin-Watson:                   1.852\n",
      "Prob(Omnibus):                  0.000   Jarque-Bera (JB):             4424.090\n",
      "Skew:                           4.853   Prob(JB):                         0.00\n",
      "Kurtosis:                      31.794   Cond. No.                         287.\n",
      "==============================================================================\n",
      "\n",
      "Notes:\n",
      "[1] Standard Errors assume that the covariance matrix of the errors is correctly specified.\n"
     ]
    }
   ],
   "source": [
    "import statsmodels.api as sm\n",
    "from scipy.stats import jarque_bera\n",
    "from sklearn.linear_model import LinearRegression\n",
    "df['high'] = np.where(df['educ'] ==2, 1, 0)\n",
    "y = df['wage']\n",
    "X = df[['age','high','female','is_children','smoke']]\n",
    "X = sm.add_constant(X)\n",
    "model = sm.OLS(y, X).fit()\n",
    "summary = model.summary()\n",
    "print(summary)"
   ]
  },
  {
   "cell_type": "markdown",
   "id": "4a664dc3",
   "metadata": {},
   "source": [
    "# 2."
   ]
  },
  {
   "cell_type": "code",
   "execution_count": 5,
   "id": "e5e8de51",
   "metadata": {},
   "outputs": [
    {
     "name": "stdout",
     "output_type": "stream",
     "text": [
      "                            OLS Regression Results                            \n",
      "==============================================================================\n",
      "Dep. Variable:                   logw   R-squared:                       0.247\n",
      "Model:                            OLS   Adj. R-squared:                  0.219\n",
      "Method:                 Least Squares   F-statistic:                     8.999\n",
      "Date:                Sun, 15 Dec 2024   Prob (F-statistic):           2.52e-06\n",
      "Time:                        23:35:08   Log-Likelihood:                -54.944\n",
      "No. Observations:                 115   AIC:                             119.9\n",
      "Df Residuals:                     110   BIC:                             133.6\n",
      "Df Model:                           4                                         \n",
      "Covariance Type:            nonrobust                                         \n",
      "===============================================================================\n",
      "                  coef    std err          t      P>|t|      [0.025      0.975]\n",
      "-------------------------------------------------------------------------------\n",
      "age            -0.0062      0.004     -1.429      0.156      -0.015       0.002\n",
      "high            0.1625      0.081      2.006      0.047       0.002       0.323\n",
      "female         -0.4543      0.085     -5.361      0.000      -0.622      -0.286\n",
      "is_children    10.8651      0.222     48.867      0.000      10.424      11.306\n",
      "smoke          -0.0378      0.106     -0.356      0.723      -0.249       0.173\n",
      "==============================================================================\n",
      "Omnibus:                       51.682   Durbin-Watson:                   1.621\n",
      "Prob(Omnibus):                  0.000   Jarque-Bera (JB):              172.452\n",
      "Skew:                           1.600   Prob(JB):                     3.57e-38\n",
      "Kurtosis:                       8.074   Cond. No.                         287.\n",
      "==============================================================================\n",
      "\n",
      "Notes:\n",
      "[1] Standard Errors assume that the covariance matrix of the errors is correctly specified.\n"
     ]
    }
   ],
   "source": [
    "df['logw'] = np.log(df['wage'])\n",
    "y = df['logw']\n",
    "X = df[['age','high','female','is_children','smoke']]\n",
    "X = sm.add_constant(X)\n",
    "model2 = sm.OLS(y, X).fit()\n",
    "summary = model2.summary()\n",
    "print(summary)"
   ]
  },
  {
   "cell_type": "markdown",
   "id": "95a14723",
   "metadata": {},
   "source": [
    "# 3."
   ]
  },
  {
   "cell_type": "code",
   "execution_count": 6,
   "id": "8f8e2c37",
   "metadata": {},
   "outputs": [
    {
     "name": "stdout",
     "output_type": "stream",
     "text": [
      "                            OLS Regression Results                            \n",
      "==============================================================================\n",
      "Dep. Variable:                   logw   R-squared:                       0.241\n",
      "Model:                            OLS   Adj. R-squared:                  0.213\n",
      "Method:                 Least Squares   F-statistic:                     8.724\n",
      "Date:                Sun, 15 Dec 2024   Prob (F-statistic):           3.73e-06\n",
      "Time:                        23:35:08   Log-Likelihood:                -55.380\n",
      "No. Observations:                 115   AIC:                             120.8\n",
      "Df Residuals:                     110   BIC:                             134.5\n",
      "Df Model:                           4                                         \n",
      "Covariance Type:            nonrobust                                         \n",
      "===============================================================================\n",
      "                  coef    std err          t      P>|t|      [0.025      0.975]\n",
      "-------------------------------------------------------------------------------\n",
      "loga           -0.2175      0.199     -1.094      0.276      -0.611       0.176\n",
      "high            0.1690      0.081      2.084      0.040       0.008       0.330\n",
      "female         -0.4563      0.085     -5.362      0.000      -0.625      -0.288\n",
      "is_children    11.4079      0.770     14.820      0.000       9.882      12.933\n",
      "smoke          -0.0414      0.107     -0.388      0.699      -0.253       0.170\n",
      "==============================================================================\n",
      "Omnibus:                       50.657   Durbin-Watson:                   1.627\n",
      "Prob(Omnibus):                  0.000   Jarque-Bera (JB):              165.725\n",
      "Skew:                           1.573   Prob(JB):                     1.03e-36\n",
      "Kurtosis:                       7.969   Cond. No.                         85.7\n",
      "==============================================================================\n",
      "\n",
      "Notes:\n",
      "[1] Standard Errors assume that the covariance matrix of the errors is correctly specified.\n"
     ]
    }
   ],
   "source": [
    "df['loga'] = np.log(df['age'])\n",
    "y = df['logw']\n",
    "X = df[['loga','high','female','is_children','smoke']]\n",
    "X = sm.add_constant(X)\n",
    "model3 = sm.OLS(y, X).fit()\n",
    "summary = model3.summary()\n",
    "print(summary)"
   ]
  },
  {
   "cell_type": "markdown",
   "id": "6f6d7550",
   "metadata": {},
   "source": [
    "# 4."
   ]
  },
  {
   "cell_type": "markdown",
   "id": "d2fbbafe",
   "metadata": {},
   "source": [
    "### PE-тест"
   ]
  },
  {
   "cell_type": "code",
   "execution_count": 7,
   "id": "3360f197",
   "metadata": {},
   "outputs": [
    {
     "name": "stdout",
     "output_type": "stream",
     "text": [
      "                            OLS Regression Results                            \n",
      "==============================================================================\n",
      "Dep. Variable:                   wage   R-squared:                       0.109\n",
      "Model:                            OLS   Adj. R-squared:                  0.068\n",
      "Method:                 Least Squares   F-statistic:                     2.672\n",
      "Date:                Sun, 15 Dec 2024   Prob (F-statistic):             0.0256\n",
      "Time:                        23:35:08   Log-Likelihood:                -1316.7\n",
      "No. Observations:                 115   AIC:                             2645.\n",
      "Df Residuals:                     109   BIC:                             2662.\n",
      "Df Model:                           5                                         \n",
      "Covariance Type:            nonrobust                                         \n",
      "===============================================================================\n",
      "                  coef    std err          t      P>|t|      [0.025      0.975]\n",
      "-------------------------------------------------------------------------------\n",
      "Intercept    2.045e+04   7682.040      2.662      0.009    5223.846    3.57e+04\n",
      "age          -235.3740    268.736     -0.876      0.383    -768.000     297.252\n",
      "high         8358.4929   5594.504      1.494      0.138   -2729.632    1.94e+04\n",
      "female      -1.865e+04   5381.591     -3.465      0.001   -2.93e+04   -7980.864\n",
      "is_children  2.045e+04   7682.040      2.662      0.009    5223.846    3.57e+04\n",
      "smoke        2164.7269   7935.085      0.273      0.786   -1.36e+04    1.79e+04\n",
      "lin          1.298e+05   1.12e+05      1.154      0.251   -9.31e+04    3.53e+05\n",
      "==============================================================================\n",
      "Omnibus:                      148.490   Durbin-Watson:                   1.827\n",
      "Prob(Omnibus):                  0.000   Jarque-Bera (JB):             4139.987\n",
      "Skew:                           4.724   Prob(JB):                         0.00\n",
      "Kurtosis:                      30.834   Cond. No.                     3.46e+17\n",
      "==============================================================================\n",
      "\n",
      "Notes:\n",
      "[1] Standard Errors assume that the covariance matrix of the errors is correctly specified.\n",
      "[2] The smallest eigenvalue is 2.12e-30. This might indicate that there are\n",
      "strong multicollinearity problems or that the design matrix is singular.\n",
      "                            OLS Regression Results                            \n",
      "==============================================================================\n",
      "Dep. Variable:                   logw   R-squared:                       0.256\n",
      "Model:                            OLS   Adj. R-squared:                  0.222\n",
      "Method:                 Least Squares   F-statistic:                     7.490\n",
      "Date:                Sun, 15 Dec 2024   Prob (F-statistic):           4.47e-06\n",
      "Time:                        23:35:09   Log-Likelihood:                -54.240\n",
      "No. Observations:                 115   AIC:                             120.5\n",
      "Df Residuals:                     109   BIC:                             137.0\n",
      "Df Model:                           5                                         \n",
      "Covariance Type:            nonrobust                                         \n",
      "===============================================================================\n",
      "                  coef    std err          t      P>|t|      [0.025      0.975]\n",
      "-------------------------------------------------------------------------------\n",
      "Intercept       5.6817      0.383     14.830      0.000       4.922       6.441\n",
      "loga           -0.2866      0.203     -1.411      0.161      -0.689       0.116\n",
      "high            0.2124      0.086      2.474      0.015       0.042       0.383\n",
      "female         -0.4097      0.090     -4.536      0.000      -0.589      -0.231\n",
      "is_children     5.6817      0.383     14.830      0.000       4.922       6.441\n",
      "smoke           0.0783      0.134      0.586      0.559      -0.186       0.343\n",
      "log          7.041e-05   4.77e-05      1.477      0.143   -2.41e-05       0.000\n",
      "==============================================================================\n",
      "Omnibus:                       46.514   Durbin-Watson:                   1.609\n",
      "Prob(Omnibus):                  0.000   Jarque-Bera (JB):              139.630\n",
      "Skew:                           1.466   Prob(JB):                     4.78e-31\n",
      "Kurtosis:                       7.533   Cond. No.                     2.29e+19\n",
      "==============================================================================\n",
      "\n",
      "Notes:\n",
      "[1] Standard Errors assume that the covariance matrix of the errors is correctly specified.\n",
      "[2] The smallest eigenvalue is 2.65e-30. This might indicate that there are\n",
      "strong multicollinearity problems or that the design matrix is singular.\n"
     ]
    }
   ],
   "source": [
    "import statsmodels.formula.api as smf\n",
    "lin = smf.ols('wage ~ age + high + female + is_children + smoke', data = df).fit()\n",
    "log = smf.ols('logw ~ loga + high + female + is_children + smoke', data = df).fit()\n",
    "df['lin'] = np.log(lin.fittedvalues) - log.fittedvalues\n",
    "df['log'] = lin.fittedvalues - np.exp(log.fittedvalues)\n",
    "model_with_lin = smf.ols('wage ~ age + high + female + is_children + smoke + lin', data = df).fit()\n",
    "model_with_log = smf.ols('logw ~ loga + high + female + is_children + smoke + log', data = df).fit()\n",
    "print(model_with_lin.summary())\n",
    "print(model_with_log.summary())"
   ]
  },
  {
   "cell_type": "markdown",
   "id": "fa46e2e2",
   "metadata": {},
   "source": [
    "## Тест Бокса-Кокса"
   ]
  },
  {
   "cell_type": "code",
   "execution_count": 8,
   "id": "aa287ead",
   "metadata": {},
   "outputs": [
    {
     "name": "stdout",
     "output_type": "stream",
     "text": [
      "Лучшая lambda для преобразования Бокса-Кокса: -0.5305114150640363\n",
      "                            OLS Regression Results                            \n",
      "==============================================================================\n",
      "Dep. Variable:                bc_wage   R-squared:                       0.294\n",
      "Model:                            OLS   Adj. R-squared:                  0.269\n",
      "Method:                 Least Squares   F-statistic:                     11.48\n",
      "Date:                Sun, 15 Dec 2024   Prob (F-statistic):           8.01e-08\n",
      "Time:                        23:35:09   Log-Likelihood:                 588.36\n",
      "No. Observations:                 115   AIC:                            -1167.\n",
      "Df Residuals:                     110   BIC:                            -1153.\n",
      "Df Model:                           4                                         \n",
      "Covariance Type:            nonrobust                                         \n",
      "===============================================================================\n",
      "                  coef    std err          t      P>|t|      [0.025      0.975]\n",
      "-------------------------------------------------------------------------------\n",
      "Intercept       0.9396      0.000   2271.869      0.000       0.939       0.940\n",
      "age         -2.969e-05   1.61e-05     -1.846      0.068   -6.16e-05    2.18e-06\n",
      "high            0.0007      0.000      2.403      0.018       0.000       0.001\n",
      "female         -0.0019      0.000     -5.869      0.000      -0.002      -0.001\n",
      "is_children     0.9396      0.000   2271.869      0.000       0.939       0.940\n",
      "smoke       -4.437e-05      0.000     -0.112      0.911      -0.001       0.001\n",
      "==============================================================================\n",
      "Omnibus:                        8.033   Durbin-Watson:                   1.577\n",
      "Prob(Omnibus):                  0.018   Jarque-Bera (JB):                7.865\n",
      "Skew:                           0.533   Prob(JB):                       0.0196\n",
      "Kurtosis:                       3.711   Cond. No.                     3.30e+17\n",
      "==============================================================================\n",
      "\n",
      "Notes:\n",
      "[1] Standard Errors assume that the covariance matrix of the errors is correctly specified.\n",
      "[2] The smallest eigenvalue is 2.34e-30. This might indicate that there are\n",
      "strong multicollinearity problems or that the design matrix is singular.\n",
      "\n",
      "Тестовая статистика n/2 ln((RSS_lin / RSS_log)): 1.7963394653382307\n"
     ]
    }
   ],
   "source": [
    "from scipy.stats import boxcox\n",
    "from scipy.special import inv_boxcox\n",
    "\n",
    "bc_transformed, lambda_bc = boxcox(df['wage'])  \n",
    "df['bc_wage'] = bc_transformed\n",
    "\n",
    "bc_model = smf.ols('bc_wage ~ age + high + female + is_children + smoke', data=df).fit()\n",
    "\n",
    "print(f\"Лучшая lambda для преобразования Бокса-Кокса: {lambda_bc}\")\n",
    "print(bc_model.summary())\n",
    "\n",
    "lin_pred = lin.fittedvalues\n",
    "log_pred = np.exp(log.fittedvalues)\n",
    "bc_pred = inv_boxcox(bc_model.fittedvalues, lambda_bc)\n",
    "\n",
    "rss_lin = np.sum((df['wage'] - lin_pred) ** 2)\n",
    "rss_log = np.sum((df['wage'] - log_pred) ** 2)\n",
    "n = len(df)\n",
    "\n",
    "statistic = (n / 2) * np.abs(np.log(rss_lin / rss_log))\n",
    "print(f\"\\nТестовая статистика n/2 ln((RSS_lin / RSS_log)): {statistic}\")"
   ]
  },
  {
   "cell_type": "code",
   "execution_count": 9,
   "id": "161dc6a7",
   "metadata": {},
   "outputs": [],
   "source": [
    "y = df['logw']\n",
    "X = df[['age','high','female','is_children','smoke']]\n",
    "X = sm.add_constant(X)"
   ]
  },
  {
   "cell_type": "markdown",
   "id": "94045ae5",
   "metadata": {},
   "source": [
    "# 5."
   ]
  },
  {
   "cell_type": "code",
   "execution_count": 10,
   "id": "49217b04",
   "metadata": {},
   "outputs": [],
   "source": [
    "y2, X2 = df['logw'], df[['age','high','is_children','smoke']]\n",
    "X2 = sm.add_constant(X2)\n",
    "model5 = sm.OLS(y2, X2).fit()\n",
    "model_summary = model5.summary()"
   ]
  },
  {
   "cell_type": "code",
   "execution_count": 11,
   "id": "38d27bc8",
   "metadata": {},
   "outputs": [
    {
     "name": "stdout",
     "output_type": "stream",
     "text": [
      "P-value: 6.733238051670476e-06\n"
     ]
    }
   ],
   "source": [
    "import scipy.stats as sts\n",
    "df_men = df[df['female'] == 0]\n",
    "df_women = df[df['female'] == 1]\n",
    "X_men = df_men[['age', 'high', 'is_children', 'smoke']]\n",
    "X_men = sm.add_constant(X_men)\n",
    "y_men = df_men['logw']\n",
    "X_women = df_women[['age', 'high', 'is_children', 'smoke']]\n",
    "X_women = sm.add_constant(X_women)\n",
    "y_women = df_women['logw']\n",
    "model_men = sm.OLS(y_men, X_men).fit()\n",
    "model_women = sm.OLS(y_women, X_women).fit()\n",
    "rss_women, rss_men, rss_comb = model_women.ssr, model_men.ssr, model5.ssr\n",
    "numerator = (rss_comb - (rss_men + rss_women)) / (model5.df_model+1)\n",
    "denominator = (rss_men + rss_women) / (df.shape[0] - 2 * model5.df_model - 2)\n",
    "F_observed = numerator / denominator\n",
    "F_critical = sts.f.ppf(1-0.05, model5.df_model+1, df.shape[0] - 2 * model5.df_model - 2)\n",
    "p_value = 1 - sts.f.cdf(F_observed, model5.df_model+1, df.shape[0] - 2 * model5.df_model - 2)\n",
    "print(f\"P-value: {p_value}\")"
   ]
  },
  {
   "cell_type": "markdown",
   "id": "5130f02c",
   "metadata": {},
   "source": [
    "H0 отвергается, следовательно выборка неоднородна и разница в зарплатах есть"
   ]
  },
  {
   "cell_type": "code",
   "execution_count": 12,
   "id": "ebec6189",
   "metadata": {},
   "outputs": [
    {
     "name": "stdout",
     "output_type": "stream",
     "text": [
      "Результат F-теста: F=8.345601809953683, p=6.733238051699951e-06\n"
     ]
    },
    {
     "name": "stderr",
     "output_type": "stream",
     "text": [
      "/Users/ilushka/opt/miniconda3/lib/python3.9/site-packages/statsmodels/base/model.py:1896: ValueWarning: covariance of constraints does not have full rank. The number of constraints is 5, but rank is 4\n",
      "  warnings.warn('covariance of constraints does not have full '\n"
     ]
    }
   ],
   "source": [
    "df['female_high'] = df['high'] * df['female']\n",
    "df['female_is_children'] = df['female'] * df['is_children']\n",
    "df['female_smoke']  = df['female'] * df['smoke']\n",
    "df['female_age']  = df['female'] * df['age']\n",
    "\n",
    "X_dummy = sm.add_constant(df[['age', 'high', 'female', 'is_children', 'smoke',\n",
    "                                          'female_high', 'female_is_children', 'female_smoke', 'female_age']])\n",
    "\n",
    "model_dummy = sm.OLS(df['logw'], X_dummy).fit()\n",
    "\n",
    "hypotheses = '(female_high = 0), (female_is_children = 0), (female_smoke = 0), (female = 0), (female_age = 0)'\n",
    "f_test = model_dummy.f_test(hypotheses)\n",
    "print(f\"Результат F-теста: F={f_test.fvalue}, p={f_test.pvalue}\")"
   ]
  },
  {
   "cell_type": "markdown",
   "id": "28ffedff",
   "metadata": {},
   "source": [
    "p-value совпадает с p-value теста чоу"
   ]
  },
  {
   "cell_type": "markdown",
   "id": "25993774",
   "metadata": {},
   "source": [
    "# 6."
   ]
  },
  {
   "cell_type": "code",
   "execution_count": 13,
   "id": "2b1495a7",
   "metadata": {},
   "outputs": [
    {
     "data": {
      "image/png": "[encoded data removed]",
      "text/plain": [
       "<Figure size 1800x600 with 3 Axes>"
      ]
     },
     "metadata": {},
     "output_type": "display_data"
    }
   ],
   "source": [
    "import numpy as np\n",
    "import matplotlib.pyplot as plt\n",
    "\n",
    "influence = model2.get_influence()\n",
    "studentized_residuals = influence.resid_studentized_internal\n",
    "leverage = influence.hat_matrix_diag\n",
    "dffits = influence.dffits[0]\n",
    "observations = np.arange(1, len(df) + 1)\n",
    "dffits_threshold = 2 * np.sqrt((X.shape[1]) / len(X))\n",
    "\n",
    "plt.figure(figsize=(18, 6))\n",
    "\n",
    "plt.subplot(1, 3, 1)\n",
    "plt.scatter(observations, studentized_residuals)\n",
    "plt.hlines(0, xmin=min(observations), xmax=max(observations))\n",
    "plt.hlines([2, -2], xmin=min(observations), xmax=max(observations), color='red', linestyle='dashed')\n",
    "plt.title('Остатки')\n",
    "plt.xlabel('Наблюдения')\n",
    "plt.ylabel('Cтанд. остатки')\n",
    "\n",
    "plt.subplot(1, 3, 2)\n",
    "plt.scatter(observations, dffits)\n",
    "plt.hlines(0, xmin=min(observations), xmax=max(observations))\n",
    "plt.hlines([dffits_threshold, -dffits_threshold], xmin=min(observations), xmax=max(observations), color='red', linestyle='dashed')\n",
    "plt.title('DFFITS')\n",
    "plt.xlabel('Наблюдения')\n",
    "plt.ylabel('DFFITS значения')\n",
    "\n",
    "plt.subplot(1, 3, 3)\n",
    "plt.scatter(observations, leverage)\n",
    "plt.title('Leverage')\n",
    "plt.xlabel('Наблюдения')\n",
    "plt.ylabel('Leverage')\n",
    "\n",
    "\n",
    "plt.tight_layout()\n",
    "plt.show()\n"
   ]
  },
  {
   "cell_type": "markdown",
   "id": "ca5b681d",
   "metadata": {},
   "source": [
    "Выбросов немного, поэтому нет смысла их удалять, так как наблюдений и так довольно мало"
   ]
  },
  {
   "cell_type": "markdown",
   "id": "3e53949d",
   "metadata": {},
   "source": [
    "# 7."
   ]
  },
  {
   "cell_type": "code",
   "execution_count": 14,
   "id": "fb56e147",
   "metadata": {},
   "outputs": [
    {
     "data": {
      "image/png": "[encoded data removed]",
      "text/plain": [
       "<Figure size 1200x1000 with 2 Axes>"
      ]
     },
     "metadata": {},
     "output_type": "display_data"
    }
   ],
   "source": [
    "import seaborn as sns\n",
    "\n",
    "df_7 = df[['logw', 'age', 'high', 'female', 'is_children', 'smoke']]\n",
    "corr_matrix = df_7.corr()\n",
    "plt.figure(figsize=(12, 10)) \n",
    "sns.heatmap(corr_matrix, \n",
    "            annot=True,      \n",
    "            vmin=-1, vmax=1)\n",
    "plt.show()"
   ]
  },
  {
   "cell_type": "code",
   "execution_count": 15,
   "id": "679c6e4d",
   "metadata": {},
   "outputs": [
    {
     "name": "stdout",
     "output_type": "stream",
     "text": [
      "Feature\t\tVIF\n",
      "age\t\t1.06\n",
      "high\t\t1.19\n",
      "female\t\t1.25\n",
      "is_children\t\t35.72\n",
      "smoke\t\t1.35\n"
     ]
    }
   ],
   "source": [
    "from statsmodels.stats.outliers_influence import variance_inflation_factor\n",
    "\n",
    "print(\"Feature\\t\\tVIF\")\n",
    "for i, feature in enumerate(X.columns):\n",
    "    vif = variance_inflation_factor(X.values, i)\n",
    "    print(f\"{feature}\\t\\t{vif:.2f}\")"
   ]
  },
  {
   "cell_type": "code",
   "execution_count": 16,
   "id": "6515faa1",
   "metadata": {},
   "outputs": [
    {
     "name": "stdout",
     "output_type": "stream",
     "text": [
      "Число обусловленности: 286.6634307442073\n"
     ]
    }
   ],
   "source": [
    "condition_number = np.linalg.cond(model2.model.exog)\n",
    "print(f'Число обусловленности: {condition_number}')"
   ]
  },
  {
   "cell_type": "markdown",
   "id": "141eb1b2",
   "metadata": {},
   "source": [
    "Большое число обусловленности говорит о высокой вероятности присутствия мультиколлинеарности. Но VIF указывает на её отсутствие, поэтому будем считать, что её нет."
   ]
  },
  {
   "cell_type": "markdown",
   "id": "47621240",
   "metadata": {},
   "source": [
    "# 8."
   ]
  },
  {
   "cell_type": "markdown",
   "id": "6624eb84",
   "metadata": {},
   "source": [
    "Посчитаем, сколько нужно главных компонент для объяснения хотя бы 75% объясненой дисперсии и доля дисперсии от количества компонент."
   ]
  },
  {
   "cell_type": "code",
   "execution_count": 17,
   "id": "cca3af0a",
   "metadata": {
    "scrolled": true
   },
   "outputs": [
    {
     "name": "stdout",
     "output_type": "stream",
     "text": [
      "Для объяснения как минимум 75% дисперсии требуется 3 компонент(ы).\n",
      "Кумулятивная объясненная дисперсия для каждой компоненты: [0.44164877 0.68819582 0.86655462 1.         1.        ]\n"
     ]
    }
   ],
   "source": [
    "from sklearn.decomposition import PCA\n",
    "from sklearn.preprocessing import StandardScaler\n",
    "\n",
    "X_std = StandardScaler().fit_transform(X)\n",
    "pca = PCA()\n",
    "principalComponents = pca.fit_transform(X_std)\n",
    "cumulative_explained_variance = pca.explained_variance_ratio_.cumsum()\n",
    "n_components_required = (cumulative_explained_variance >= 0.75).argmax() + 1\n",
    "\n",
    "print(f\"Для объяснения как минимум 75% дисперсии требуется {n_components_required} компонент(ы).\")\n",
    "print(f\"Кумулятивная объясненная дисперсия для каждой компоненты: {cumulative_explained_variance}\")"
   ]
  },
  {
   "cell_type": "markdown",
   "id": "8dc8fea0",
   "metadata": {},
   "source": [
    "# 9."
   ]
  },
  {
   "cell_type": "code",
   "execution_count": 18,
   "id": "8bfee875",
   "metadata": {},
   "outputs": [
    {
     "data": {
      "image/png": "[encoded data removed]",
      "text/plain": [
       "<Figure size 640x480 with 1 Axes>"
      ]
     },
     "metadata": {},
     "output_type": "display_data"
    }
   ],
   "source": [
    "fittedvalues = model2.fittedvalues\n",
    "resid = model2.resid\n",
    "\n",
    "plt.scatter(fittedvalues, resid)\n",
    "plt.xlabel('Прогнозы')\n",
    "plt.ylabel('Остатки')\n",
    "plt.title('остатки-прогнозы')\n",
    "plt.axhline(y=0, color='gray', linestyle='dotted')\n",
    "plt.show()"
   ]
  },
  {
   "cell_type": "markdown",
   "id": "1a436493",
   "metadata": {},
   "source": [
    "# 10."
   ]
  },
  {
   "cell_type": "markdown",
   "id": "f92be648",
   "metadata": {},
   "source": [
    "### Тест Уайта"
   ]
  },
  {
   "cell_type": "code",
   "execution_count": 19,
   "id": "aebd3fc0",
   "metadata": {},
   "outputs": [
    {
     "name": "stdout",
     "output_type": "stream",
     "text": [
      "Тестовая статистика теста Уайта: 3.310994568690732\n",
      "P-значение теста Уайта: 0.9859446773205406\n",
      "fpvalue: 0.9887607053486053\n"
     ]
    }
   ],
   "source": [
    "from statsmodels.stats.diagnostic import het_white\n",
    "\n",
    "model_white = smf.ols(formula='logw ~ age + high + female + is_children + smoke', data=df).fit()\n",
    "residuals = model_white.resid\n",
    "predictions = model_white.fittedvalues\n",
    "statistic, p_value, f_statistic, f_p_value = het_white(residuals, model_white.model.exog)\n",
    "\n",
    "print(f'Тестовая статистика теста Уайта: {statistic}')\n",
    "print(f'P-значение теста Уайта: {p_value}')\n",
    "print(f'fpvalue: {f_p_value}')"
   ]
  },
  {
   "cell_type": "markdown",
   "id": "b65fcd82",
   "metadata": {},
   "source": [
    "На 5% уровне значимости нулевая гипотеза не отвергается, следовательно, нет оснований считать, что присутствует гетероскедастичность.\n",
    "### Тест Бройша - Пагана"
   ]
  },
  {
   "cell_type": "code",
   "execution_count": 20,
   "id": "a6f05174",
   "metadata": {},
   "outputs": [
    {
     "name": "stdout",
     "output_type": "stream",
     "text": [
      "Тестовая статистика теста Бройша-Пагана: 0.20183794450780224\n",
      "P-значение теста Бройша-Пагана: 0.9990939533629206\n"
     ]
    }
   ],
   "source": [
    "from statsmodels.stats.diagnostic import het_breuschpagan\n",
    "\n",
    "bp_statistic, bp_p_value, bp_f_statistic, bp_f_p_value = het_breuschpagan(residuals, model_white.model.exog)\n",
    "\n",
    "print(f'Тестовая статистика теста Бройша-Пагана: {bp_statistic}')\n",
    "print(f'P-значение теста Бройша-Пагана: {bp_p_value}')"
   ]
  },
  {
   "cell_type": "markdown",
   "id": "68588074",
   "metadata": {},
   "source": [
    "# 11."
   ]
  },
  {
   "cell_type": "code",
   "execution_count": 21,
   "id": "dde582af",
   "metadata": {},
   "outputs": [
    {
     "name": "stdout",
     "output_type": "stream",
     "text": [
      "Results of the Ramsey RESET Test:\n",
      "<F test: F=1.2763707733399752, p=0.26105497616465106, df_denom=109, df_num=1>\n"
     ]
    }
   ],
   "source": [
    "from statsmodels.stats.diagnostic import linear_reset\n",
    "\n",
    "reset_test = linear_reset(model2, power=2, use_f=True)\n",
    "\n",
    "print(f'Results of the Ramsey RESET Test:\\n{reset_test}')"
   ]
  },
  {
   "cell_type": "markdown",
   "id": "3c7de808",
   "metadata": {},
   "source": [
    "H0 не отвергается => у модели адекватная спецификация"
   ]
  },
  {
   "cell_type": "markdown",
   "id": "6946eb1d",
   "metadata": {},
   "source": [
    "# 12."
   ]
  },
  {
   "cell_type": "code",
   "execution_count": 22,
   "id": "3f3aaa44",
   "metadata": {},
   "outputs": [
    {
     "name": "stdout",
     "output_type": "stream",
     "text": [
      "                            OLS Regression Results                            \n",
      "==============================================================================\n",
      "Dep. Variable:                   logw   R-squared:                       0.231\n",
      "Model:                            OLS   Adj. R-squared:                  0.217\n",
      "Method:                 Least Squares   F-statistic:                     16.84\n",
      "Date:                Sun, 15 Dec 2024   Prob (F-statistic):           4.03e-07\n",
      "Time:                        23:35:10   Log-Likelihood:                -56.105\n",
      "No. Observations:                 115   AIC:                             118.2\n",
      "Df Residuals:                     112   BIC:                             126.4\n",
      "Df Model:                           2                                         \n",
      "Covariance Type:            nonrobust                                         \n",
      "===============================================================================\n",
      "                  coef    std err          t      P>|t|      [0.025      0.975]\n",
      "-------------------------------------------------------------------------------\n",
      "high            0.1954      0.076      2.558      0.012       0.044       0.347\n",
      "female         -0.4389      0.078     -5.648      0.000      -0.593      -0.285\n",
      "is_children    10.5468      0.064    163.573      0.000      10.419      10.675\n",
      "==============================================================================\n",
      "Omnibus:                       48.068   Durbin-Watson:                   1.645\n",
      "Prob(Omnibus):                  0.000   Jarque-Bera (JB):              150.522\n",
      "Skew:                           1.501   Prob(JB):                     2.06e-33\n",
      "Kurtosis:                       7.734   Cond. No.                         3.19\n",
      "==============================================================================\n",
      "\n",
      "Notes:\n",
      "[1] Standard Errors assume that the covariance matrix of the errors is correctly specified.\n"
     ]
    }
   ],
   "source": [
    "X_sig = df[[\"high\", \"female\", \"is_children\"]]\n",
    "X_sig = sm.add_constant(X_sig)\n",
    "model_sig = sm.OLS(y, X_sig).fit()\n",
    "print(model_sig.summary())"
   ]
  },
  {
   "cell_type": "markdown",
   "id": "006d7a5b",
   "metadata": {},
   "source": [
    "Сделаем PE-тест"
   ]
  },
  {
   "cell_type": "code",
   "execution_count": 23,
   "id": "b8b84f8c",
   "metadata": {},
   "outputs": [
    {
     "name": "stdout",
     "output_type": "stream",
     "text": [
      "                            OLS Regression Results                            \n",
      "==============================================================================\n",
      "Dep. Variable:                   wage   R-squared:                       0.103\n",
      "Model:                            OLS   Adj. R-squared:                  0.062\n",
      "Method:                 Least Squares   F-statistic:                     2.516\n",
      "Date:                Sun, 15 Dec 2024   Prob (F-statistic):             0.0339\n",
      "Time:                        23:35:11   Log-Likelihood:                -1317.0\n",
      "No. Observations:                 115   AIC:                             2646.\n",
      "Df Residuals:                     109   BIC:                             2663.\n",
      "Df Model:                           5                                         \n",
      "Covariance Type:            nonrobust                                         \n",
      "===============================================================================\n",
      "                  coef    std err          t      P>|t|      [0.025      0.975]\n",
      "-------------------------------------------------------------------------------\n",
      "Intercept    1.009e+04   2.01e+04      0.502      0.617   -2.97e+04    4.99e+04\n",
      "age           236.8330    526.776      0.450      0.654    -807.220    1280.886\n",
      "high         9983.9177   7951.139      1.256      0.212   -5774.981    2.57e+04\n",
      "female      -1.653e+04   4985.749     -3.316      0.001   -2.64e+04   -6652.059\n",
      "is_children  1.009e+04   2.01e+04      0.502      0.617   -2.97e+04    4.99e+04\n",
      "smoke        4354.1982   1.17e+04      0.372      0.711   -1.89e+04    2.76e+04\n",
      "lin          9.384e+04   1.18e+05      0.794      0.429    -1.4e+05    3.28e+05\n",
      "==============================================================================\n",
      "Omnibus:                      149.270   Durbin-Watson:                   1.831\n",
      "Prob(Omnibus):                  0.000   Jarque-Bera (JB):             4226.046\n",
      "Skew:                           4.758   Prob(JB):                         0.00\n",
      "Kurtosis:                      31.132   Cond. No.                     3.18e+17\n",
      "==============================================================================\n",
      "\n",
      "Notes:\n",
      "[1] Standard Errors assume that the covariance matrix of the errors is correctly specified.\n",
      "[2] The smallest eigenvalue is 2.51e-30. This might indicate that there are\n",
      "strong multicollinearity problems or that the design matrix is singular.\n",
      "                            OLS Regression Results                            \n",
      "==============================================================================\n",
      "Dep. Variable:                   logw   R-squared:                       0.251\n",
      "Model:                            OLS   Adj. R-squared:                  0.231\n",
      "Method:                 Least Squares   F-statistic:                     12.39\n",
      "Date:                Sun, 15 Dec 2024   Prob (F-statistic):           4.76e-07\n",
      "Time:                        23:35:11   Log-Likelihood:                -54.619\n",
      "No. Observations:                 115   AIC:                             117.2\n",
      "Df Residuals:                     111   BIC:                             128.2\n",
      "Df Model:                           3                                         \n",
      "Covariance Type:            nonrobust                                         \n",
      "===============================================================================\n",
      "                  coef    std err          t      P>|t|      [0.025      0.975]\n",
      "-------------------------------------------------------------------------------\n",
      "Intercept       5.2082      0.050    104.519      0.000       5.109       5.307\n",
      "high            0.2057      0.076      2.706      0.008       0.055       0.356\n",
      "female         -0.4322      0.077     -5.601      0.000      -0.585      -0.279\n",
      "is_children     5.2082      0.050    104.519      0.000       5.109       5.307\n",
      "log           3.61e-05   2.12e-05      1.705      0.091   -5.86e-06    7.81e-05\n",
      "==============================================================================\n",
      "Omnibus:                       49.381   Durbin-Watson:                   1.623\n",
      "Prob(Omnibus):                  0.000   Jarque-Bera (JB):              155.378\n",
      "Skew:                           1.546   Prob(JB):                     1.82e-34\n",
      "Kurtosis:                       7.782   Cond. No.                     2.56e+19\n",
      "==============================================================================\n",
      "\n",
      "Notes:\n",
      "[1] Standard Errors assume that the covariance matrix of the errors is correctly specified.\n",
      "[2] The smallest eigenvalue is 2.52e-30. This might indicate that there are\n",
      "strong multicollinearity problems or that the design matrix is singular.\n"
     ]
    }
   ],
   "source": [
    "import statsmodels.formula.api as smf\n",
    "lin = smf.ols('wage ~ age + high + female + is_children + smoke', data = df).fit()\n",
    "log = smf.ols('logw ~ high + female + is_children', data = df).fit()\n",
    "df['lin'] = np.log(lin.fittedvalues) - log.fittedvalues\n",
    "df['log'] = lin.fittedvalues - np.exp(log.fittedvalues)\n",
    "model_with_lin = smf.ols('wage ~ age + high + female + is_children + smoke + lin', data = df).fit()\n",
    "model_with_log = smf.ols('logw ~ high + female + is_children + log', data = df).fit()\n",
    "print(model_with_lin.summary())\n",
    "print(model_with_log.summary())"
   ]
  },
  {
   "cell_type": "markdown",
   "id": "9781865d",
   "metadata": {},
   "source": [
    "# 13."
   ]
  },
  {
   "cell_type": "code",
   "execution_count": 27,
   "id": "53a33464",
   "metadata": {},
   "outputs": [
    {
     "name": "stdout",
     "output_type": "stream",
     "text": [
      "                            OLS Regression Results                            \n",
      "==============================================================================\n",
      "Dep. Variable:                   logw   R-squared:                       0.326\n",
      "Model:                            OLS   Adj. R-squared:                  0.254\n",
      "Method:                 Least Squares   F-statistic:                     4.520\n",
      "Date:                Sun, 15 Dec 2024   Prob (F-statistic):           1.46e-05\n",
      "Time:                        23:35:24   Log-Likelihood:                -48.576\n",
      "No. Observations:                 115   AIC:                             121.2\n",
      "Df Residuals:                     103   BIC:                             154.1\n",
      "Df Model:                          11                                         \n",
      "Covariance Type:            nonrobust                                         \n",
      "======================================================================================\n",
      "                         coef    std err          t      P>|t|      [0.025      0.975]\n",
      "--------------------------------------------------------------------------------------\n",
      "age                    0.0566      0.023      2.430      0.017       0.010       0.103\n",
      "high                  -0.0443      0.141     -0.313      0.755      -0.325       0.236\n",
      "female                -0.1840      0.176     -1.044      0.299      -0.534       0.166\n",
      "is_children            4.1589      0.582      7.148      0.000       3.005       5.313\n",
      "smoke                 -0.2342      0.196     -1.192      0.236      -0.624       0.155\n",
      "age^2                 -0.0013      0.000     -2.716      0.008      -0.002      -0.000\n",
      "age high               0.0031      0.009      0.347      0.729      -0.015       0.021\n",
      "age female             0.0004      0.011      0.039      0.969      -0.022       0.023\n",
      "age is_children        0.0566      0.023      2.430      0.017       0.010       0.103\n",
      "age smoke              0.0117      0.012      0.940      0.350      -0.013       0.036\n",
      "high^2                -0.0443      0.141     -0.313      0.755      -0.325       0.236\n",
      "high female            0.1644      0.178      0.921      0.359      -0.190       0.518\n",
      "high is_children      -0.0443      0.141     -0.313      0.755      -0.325       0.236\n",
      "high smoke             0.2204      0.264      0.834      0.406      -0.304       0.744\n",
      "female^2              -0.1840      0.176     -1.044      0.299      -0.534       0.166\n",
      "female is_children    -0.1840      0.176     -1.044      0.299      -0.534       0.166\n",
      "female smoke           0.2775      0.255      1.090      0.278      -0.228       0.782\n",
      "is_children^2          4.1589      0.582      7.148      0.000       3.005       5.313\n",
      "is_children smoke     -0.2342      0.196     -1.192      0.236      -0.624       0.155\n",
      "smoke^2               -0.2342      0.196     -1.192      0.236      -0.624       0.155\n",
      "==============================================================================\n",
      "Omnibus:                       55.582   Durbin-Watson:                   1.570\n",
      "Prob(Omnibus):                  0.000   Jarque-Bera (JB):              201.973\n",
      "Skew:                           1.700   Prob(JB):                     1.39e-44\n",
      "Kurtosis:                       8.531   Cond. No.                     6.48e+36\n",
      "==============================================================================\n",
      "\n",
      "Notes:\n",
      "[1] Standard Errors assume that the covariance matrix of the errors is correctly specified.\n",
      "[2] The smallest eigenvalue is 1.53e-65. This might indicate that there are\n",
      "strong multicollinearity problems or that the design matrix is singular.\n"
     ]
    }
   ],
   "source": [
    "from sklearn.preprocessing import PolynomialFeatures\n",
    "df['logw'] = np.log(df['wage'])\n",
    "X = df[['age', 'high', 'female', 'is_children', 'smoke']]\n",
    "y = df['logw']\n",
    "poly = PolynomialFeatures(degree=2, include_bias=False)\n",
    "X_poly = poly.fit_transform(X)\n",
    "X_poly_df = pd.DataFrame(X_poly, columns=poly.get_feature_names_out(X.columns))\n",
    "X_poly_df = X_poly_df.set_index(y.index)\n",
    "X_poly_df = sm.add_constant(X_poly_df)\n",
    "model_poly = sm.OLS(y, X_poly_df).fit()\n",
    "print(model_poly.summary())"
   ]
  },
  {
   "cell_type": "markdown",
   "id": "08bf79e7",
   "metadata": {},
   "source": [
    "# 14."
   ]
  },
  {
   "cell_type": "code",
   "execution_count": 28,
   "id": "4d07aad5",
   "metadata": {},
   "outputs": [],
   "source": [
    "df['age^2'] = df['age']**2\n",
    "# df['is_children^2'] = df['is_children']**2\n",
    "# df['age is_children'] = df['age']*df['is_children']"
   ]
  },
  {
   "cell_type": "code",
   "execution_count": 30,
   "id": "5f4b7bbc",
   "metadata": {},
   "outputs": [
    {
     "name": "stdout",
     "output_type": "stream",
     "text": [
      "                            OLS Regression Results                            \n",
      "==============================================================================\n",
      "Dep. Variable:                   logw   R-squared:                       0.274\n",
      "Model:                            OLS   Adj. R-squared:                  0.254\n",
      "Method:                 Least Squares   F-statistic:                     13.94\n",
      "Date:                Sun, 15 Dec 2024   Prob (F-statistic):           8.95e-08\n",
      "Time:                        23:35:40   Log-Likelihood:                -52.844\n",
      "No. Observations:                 115   AIC:                             113.7\n",
      "Df Residuals:                     111   BIC:                             124.7\n",
      "Df Model:                           3                                         \n",
      "Covariance Type:            nonrobust                                         \n",
      "===============================================================================\n",
      "                  coef    std err          t      P>|t|      [0.025      0.975]\n",
      "-------------------------------------------------------------------------------\n",
      "age             0.1173      0.042      2.814      0.006       0.035       0.200\n",
      "is_children     8.1139      0.977      8.304      0.000       6.178      10.050\n",
      "female         -0.3739      0.075     -4.985      0.000      -0.523      -0.225\n",
      "age^2          -0.0013      0.000     -3.030      0.003      -0.002      -0.000\n",
      "==============================================================================\n",
      "Omnibus:                       55.389   Durbin-Watson:                   1.561\n",
      "Prob(Omnibus):                  0.000   Jarque-Bera (JB):              198.073\n",
      "Skew:                           1.702   Prob(JB):                     9.75e-44\n",
      "Kurtosis:                       8.455   Cond. No.                     6.36e+04\n",
      "==============================================================================\n",
      "\n",
      "Notes:\n",
      "[1] Standard Errors assume that the covariance matrix of the errors is correctly specified.\n",
      "[2] The condition number is large, 6.36e+04. This might indicate that there are\n",
      "strong multicollinearity or other numerical problems.\n"
     ]
    }
   ],
   "source": [
    "y_train, X_train = df['logw'], df[['age', 'is_children', 'female', 'age^2']]\n",
    "X_train = sm.add_constant(X_train)\n",
    "model2 = sm.OLS(y_train, X_train).fit()\n",
    "model_summary = model2.summary()\n",
    "print(model_summary)"
   ]
  }
 ],
 "metadata": {
  "kernelspec": {
   "display_name": "Python 3 (ipykernel)",
   "language": "python",
   "name": "python3"
  },
  "language_info": {
   "codemirror_mode": {
    "name": "ipython",
    "version": 3
   },
   "file_extension": ".py",
   "mimetype": "text/x-python",
   "name": "python",
   "nbconvert_exporter": "python",
   "pygments_lexer": "ipython3",
   "version": "3.9.19"
  }
 },
 "nbformat": 4,
 "nbformat_minor": 5
}
